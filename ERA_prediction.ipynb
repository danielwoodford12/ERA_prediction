{
  "nbformat": 4,
  "nbformat_minor": 0,
  "metadata": {
    "colab": {
      "provenance": [],
      "authorship_tag": "ABX9TyMgFi3nWKjqjv49UxUclQr8"
    },
    "kernelspec": {
      "name": "python3",
      "display_name": "Python 3"
    },
    "language_info": {
      "name": "python"
    }
  },
  "cells": [
    {
      "cell_type": "markdown",
      "source": [
        "# **ERA Prediction using Pybaseball**"
      ],
      "metadata": {
        "id": "da3nGchgkSKV"
      }
    },
    {
      "cell_type": "code",
      "execution_count": 1,
      "metadata": {
        "id": "eiUGxbo6r8tI"
      },
      "outputs": [],
      "source": [
        "import os\n",
        "import numpy as np\n",
        "import pandas as pd\n",
        "from pybaseball import pitching_stats, batting_stats\n",
        "from datascience import *\n",
        "import matplotlib\n",
        "matplotlib.use('Agg')\n",
        "%matplotlib inline\n",
        "import matplotlib.pyplot as plots\n",
        "plots.style.use('fivethirtyeight')"
      ]
    },
    {
      "cell_type": "code",
      "source": [
        "START = 2015\n",
        "END = 2023"
      ],
      "metadata": {
        "id": "eFu3Gjydsf3x"
      },
      "execution_count": 2,
      "outputs": []
    },
    {
      "cell_type": "markdown",
      "source": [
        "Every stadium was equipped with Statcast in 2015, hence the start date"
      ],
      "metadata": {
        "id": "0r0voCy7kiYk"
      }
    },
    {
      "cell_type": "code",
      "source": [
        "pitching = pitching_stats(START, END, qual=20)"
      ],
      "metadata": {
        "id": "EXlwXnv6syRJ"
      },
      "execution_count": 3,
      "outputs": []
    },
    {
      "cell_type": "code",
      "source": [
        "pitching.to_csv(\"pitching.csv\")"
      ],
      "metadata": {
        "id": "6bPVu48ztD5l"
      },
      "execution_count": 4,
      "outputs": []
    },
    {
      "cell_type": "code",
      "source": [
        "pitching = pitching.groupby(\"IDfg\", group_keys=False).filter(lambda x: x.shape[0] > 1)"
      ],
      "metadata": {
        "id": "Fq6AZlIStTlA"
      },
      "execution_count": 5,
      "outputs": []
    },
    {
      "cell_type": "code",
      "source": [
        "pitching"
      ],
      "metadata": {
        "colab": {
          "base_uri": "https://localhost:8080/",
          "height": 424
        },
        "id": "WwoTSZvBvK1E",
        "outputId": "ca6da689-a081-4423-ffba-c11a9f8bfa82"
      },
      "execution_count": 6,
      "outputs": [
        {
          "output_type": "execute_result",
          "data": {
            "text/plain": [
              "       IDfg  Season             Name Team  Age   W  L  WAR   ERA   G  ...  \\\n",
              "106   10954    2018     Jacob deGrom  NYM   30  10  9  9.0  1.70  32  ...   \n",
              "230    2036    2015  Clayton Kershaw  LAD   27  16  7  8.6  2.13  33  ...   \n",
              "776   10603    2017       Chris Sale  BOS   28  17  8  7.6  2.90  32  ...   \n",
              "448   13125    2019      Gerrit Cole  HOU   28  20  5  7.5  2.50  33  ...   \n",
              "468    3137    2018     Max Scherzer  WSN   33  18  7  7.5  2.53  33  ...   \n",
              "...     ...     ...              ...  ...  ...  .. ..  ...   ...  ..  ...   \n",
              "4107  13418    2017       Chris Beck  CHW   26   2  1 -1.2  6.40  57  ...   \n",
              "3011  11528    2016       Josh Osich  SFG   27   1  3 -1.2  4.71  59  ...   \n",
              "4201  15846    2021      Adam Plutko  BAL   29   1  2 -1.2  6.71  38  ...   \n",
              "3219  18282    2018    Jarlin Garcia  MIA   25   3  3 -1.3  4.91  29  ...   \n",
              "4003   9388    2018      Josh Tomlin  CLE   33   2  5 -1.4  6.14  32  ...   \n",
              "\n",
              "        LA  Barrels  Barrel%  maxEV  HardHit  HardHit%  Events  CStr%   CSW%  \\\n",
              "106   11.1       20    0.039  112.9      148     0.287     515  0.164  0.315   \n",
              "230    8.9       15    0.028  113.3      132     0.244     542  0.164  0.323   \n",
              "776   15.0       27    0.055  112.7      149     0.303     492  0.183  0.332   \n",
              "448   14.0       25    0.057  115.2      156     0.355     440  0.171  0.339   \n",
              "468   20.6       34    0.068  111.1      159     0.316     503  0.165  0.327   \n",
              "...    ...      ...      ...    ...      ...       ...     ...    ...    ...   \n",
              "4107  14.5       15    0.070  112.3       77     0.360     214  0.151  0.226   \n",
              "3011   0.8        6    0.054  111.8       35     0.313     112  0.113  0.217   \n",
              "4201  23.2       21    0.116  113.1       72     0.398     181  0.114  0.217   \n",
              "3219  12.8       22    0.105  112.0       78     0.371     210  0.175  0.257   \n",
              "4003  18.1       27    0.104  117.1       96     0.371     259  0.166  0.255   \n",
              "\n",
              "      xERA  \n",
              "106    NaN  \n",
              "230    NaN  \n",
              "776    NaN  \n",
              "448    NaN  \n",
              "468    NaN  \n",
              "...    ...  \n",
              "4107   NaN  \n",
              "3011   NaN  \n",
              "4201   NaN  \n",
              "3219   NaN  \n",
              "4003   NaN  \n",
              "\n",
              "[4067 rows x 334 columns]"
            ],
            "text/html": [
              "\n",
              "\n",
              "  <div id=\"df-8c7462a4-fc73-444c-abff-9d7afa16a027\">\n",
              "    <div class=\"colab-df-container\">\n",
              "      <div>\n",
              "<style scoped>\n",
              "    .dataframe tbody tr th:only-of-type {\n",
              "        vertical-align: middle;\n",
              "    }\n",
              "\n",
              "    .dataframe tbody tr th {\n",
              "        vertical-align: top;\n",
              "    }\n",
              "\n",
              "    .dataframe thead th {\n",
              "        text-align: right;\n",
              "    }\n",
              "</style>\n",
              "<table border=\"1\" class=\"dataframe\">\n",
              "  <thead>\n",
              "    <tr style=\"text-align: right;\">\n",
              "      <th></th>\n",
              "      <th>IDfg</th>\n",
              "      <th>Season</th>\n",
              "      <th>Name</th>\n",
              "      <th>Team</th>\n",
              "      <th>Age</th>\n",
              "      <th>W</th>\n",
              "      <th>L</th>\n",
              "      <th>WAR</th>\n",
              "      <th>ERA</th>\n",
              "      <th>G</th>\n",
              "      <th>...</th>\n",
              "      <th>LA</th>\n",
              "      <th>Barrels</th>\n",
              "      <th>Barrel%</th>\n",
              "      <th>maxEV</th>\n",
              "      <th>HardHit</th>\n",
              "      <th>HardHit%</th>\n",
              "      <th>Events</th>\n",
              "      <th>CStr%</th>\n",
              "      <th>CSW%</th>\n",
              "      <th>xERA</th>\n",
              "    </tr>\n",
              "  </thead>\n",
              "  <tbody>\n",
              "    <tr>\n",
              "      <th>106</th>\n",
              "      <td>10954</td>\n",
              "      <td>2018</td>\n",
              "      <td>Jacob deGrom</td>\n",
              "      <td>NYM</td>\n",
              "      <td>30</td>\n",
              "      <td>10</td>\n",
              "      <td>9</td>\n",
              "      <td>9.0</td>\n",
              "      <td>1.70</td>\n",
              "      <td>32</td>\n",
              "      <td>...</td>\n",
              "      <td>11.1</td>\n",
              "      <td>20</td>\n",
              "      <td>0.039</td>\n",
              "      <td>112.9</td>\n",
              "      <td>148</td>\n",
              "      <td>0.287</td>\n",
              "      <td>515</td>\n",
              "      <td>0.164</td>\n",
              "      <td>0.315</td>\n",
              "      <td>NaN</td>\n",
              "    </tr>\n",
              "    <tr>\n",
              "      <th>230</th>\n",
              "      <td>2036</td>\n",
              "      <td>2015</td>\n",
              "      <td>Clayton Kershaw</td>\n",
              "      <td>LAD</td>\n",
              "      <td>27</td>\n",
              "      <td>16</td>\n",
              "      <td>7</td>\n",
              "      <td>8.6</td>\n",
              "      <td>2.13</td>\n",
              "      <td>33</td>\n",
              "      <td>...</td>\n",
              "      <td>8.9</td>\n",
              "      <td>15</td>\n",
              "      <td>0.028</td>\n",
              "      <td>113.3</td>\n",
              "      <td>132</td>\n",
              "      <td>0.244</td>\n",
              "      <td>542</td>\n",
              "      <td>0.164</td>\n",
              "      <td>0.323</td>\n",
              "      <td>NaN</td>\n",
              "    </tr>\n",
              "    <tr>\n",
              "      <th>776</th>\n",
              "      <td>10603</td>\n",
              "      <td>2017</td>\n",
              "      <td>Chris Sale</td>\n",
              "      <td>BOS</td>\n",
              "      <td>28</td>\n",
              "      <td>17</td>\n",
              "      <td>8</td>\n",
              "      <td>7.6</td>\n",
              "      <td>2.90</td>\n",
              "      <td>32</td>\n",
              "      <td>...</td>\n",
              "      <td>15.0</td>\n",
              "      <td>27</td>\n",
              "      <td>0.055</td>\n",
              "      <td>112.7</td>\n",
              "      <td>149</td>\n",
              "      <td>0.303</td>\n",
              "      <td>492</td>\n",
              "      <td>0.183</td>\n",
              "      <td>0.332</td>\n",
              "      <td>NaN</td>\n",
              "    </tr>\n",
              "    <tr>\n",
              "      <th>448</th>\n",
              "      <td>13125</td>\n",
              "      <td>2019</td>\n",
              "      <td>Gerrit Cole</td>\n",
              "      <td>HOU</td>\n",
              "      <td>28</td>\n",
              "      <td>20</td>\n",
              "      <td>5</td>\n",
              "      <td>7.5</td>\n",
              "      <td>2.50</td>\n",
              "      <td>33</td>\n",
              "      <td>...</td>\n",
              "      <td>14.0</td>\n",
              "      <td>25</td>\n",
              "      <td>0.057</td>\n",
              "      <td>115.2</td>\n",
              "      <td>156</td>\n",
              "      <td>0.355</td>\n",
              "      <td>440</td>\n",
              "      <td>0.171</td>\n",
              "      <td>0.339</td>\n",
              "      <td>NaN</td>\n",
              "    </tr>\n",
              "    <tr>\n",
              "      <th>468</th>\n",
              "      <td>3137</td>\n",
              "      <td>2018</td>\n",
              "      <td>Max Scherzer</td>\n",
              "      <td>WSN</td>\n",
              "      <td>33</td>\n",
              "      <td>18</td>\n",
              "      <td>7</td>\n",
              "      <td>7.5</td>\n",
              "      <td>2.53</td>\n",
              "      <td>33</td>\n",
              "      <td>...</td>\n",
              "      <td>20.6</td>\n",
              "      <td>34</td>\n",
              "      <td>0.068</td>\n",
              "      <td>111.1</td>\n",
              "      <td>159</td>\n",
              "      <td>0.316</td>\n",
              "      <td>503</td>\n",
              "      <td>0.165</td>\n",
              "      <td>0.327</td>\n",
              "      <td>NaN</td>\n",
              "    </tr>\n",
              "    <tr>\n",
              "      <th>...</th>\n",
              "      <td>...</td>\n",
              "      <td>...</td>\n",
              "      <td>...</td>\n",
              "      <td>...</td>\n",
              "      <td>...</td>\n",
              "      <td>...</td>\n",
              "      <td>...</td>\n",
              "      <td>...</td>\n",
              "      <td>...</td>\n",
              "      <td>...</td>\n",
              "      <td>...</td>\n",
              "      <td>...</td>\n",
              "      <td>...</td>\n",
              "      <td>...</td>\n",
              "      <td>...</td>\n",
              "      <td>...</td>\n",
              "      <td>...</td>\n",
              "      <td>...</td>\n",
              "      <td>...</td>\n",
              "      <td>...</td>\n",
              "      <td>...</td>\n",
              "    </tr>\n",
              "    <tr>\n",
              "      <th>4107</th>\n",
              "      <td>13418</td>\n",
              "      <td>2017</td>\n",
              "      <td>Chris Beck</td>\n",
              "      <td>CHW</td>\n",
              "      <td>26</td>\n",
              "      <td>2</td>\n",
              "      <td>1</td>\n",
              "      <td>-1.2</td>\n",
              "      <td>6.40</td>\n",
              "      <td>57</td>\n",
              "      <td>...</td>\n",
              "      <td>14.5</td>\n",
              "      <td>15</td>\n",
              "      <td>0.070</td>\n",
              "      <td>112.3</td>\n",
              "      <td>77</td>\n",
              "      <td>0.360</td>\n",
              "      <td>214</td>\n",
              "      <td>0.151</td>\n",
              "      <td>0.226</td>\n",
              "      <td>NaN</td>\n",
              "    </tr>\n",
              "    <tr>\n",
              "      <th>3011</th>\n",
              "      <td>11528</td>\n",
              "      <td>2016</td>\n",
              "      <td>Josh Osich</td>\n",
              "      <td>SFG</td>\n",
              "      <td>27</td>\n",
              "      <td>1</td>\n",
              "      <td>3</td>\n",
              "      <td>-1.2</td>\n",
              "      <td>4.71</td>\n",
              "      <td>59</td>\n",
              "      <td>...</td>\n",
              "      <td>0.8</td>\n",
              "      <td>6</td>\n",
              "      <td>0.054</td>\n",
              "      <td>111.8</td>\n",
              "      <td>35</td>\n",
              "      <td>0.313</td>\n",
              "      <td>112</td>\n",
              "      <td>0.113</td>\n",
              "      <td>0.217</td>\n",
              "      <td>NaN</td>\n",
              "    </tr>\n",
              "    <tr>\n",
              "      <th>4201</th>\n",
              "      <td>15846</td>\n",
              "      <td>2021</td>\n",
              "      <td>Adam Plutko</td>\n",
              "      <td>BAL</td>\n",
              "      <td>29</td>\n",
              "      <td>1</td>\n",
              "      <td>2</td>\n",
              "      <td>-1.2</td>\n",
              "      <td>6.71</td>\n",
              "      <td>38</td>\n",
              "      <td>...</td>\n",
              "      <td>23.2</td>\n",
              "      <td>21</td>\n",
              "      <td>0.116</td>\n",
              "      <td>113.1</td>\n",
              "      <td>72</td>\n",
              "      <td>0.398</td>\n",
              "      <td>181</td>\n",
              "      <td>0.114</td>\n",
              "      <td>0.217</td>\n",
              "      <td>NaN</td>\n",
              "    </tr>\n",
              "    <tr>\n",
              "      <th>3219</th>\n",
              "      <td>18282</td>\n",
              "      <td>2018</td>\n",
              "      <td>Jarlin Garcia</td>\n",
              "      <td>MIA</td>\n",
              "      <td>25</td>\n",
              "      <td>3</td>\n",
              "      <td>3</td>\n",
              "      <td>-1.3</td>\n",
              "      <td>4.91</td>\n",
              "      <td>29</td>\n",
              "      <td>...</td>\n",
              "      <td>12.8</td>\n",
              "      <td>22</td>\n",
              "      <td>0.105</td>\n",
              "      <td>112.0</td>\n",
              "      <td>78</td>\n",
              "      <td>0.371</td>\n",
              "      <td>210</td>\n",
              "      <td>0.175</td>\n",
              "      <td>0.257</td>\n",
              "      <td>NaN</td>\n",
              "    </tr>\n",
              "    <tr>\n",
              "      <th>4003</th>\n",
              "      <td>9388</td>\n",
              "      <td>2018</td>\n",
              "      <td>Josh Tomlin</td>\n",
              "      <td>CLE</td>\n",
              "      <td>33</td>\n",
              "      <td>2</td>\n",
              "      <td>5</td>\n",
              "      <td>-1.4</td>\n",
              "      <td>6.14</td>\n",
              "      <td>32</td>\n",
              "      <td>...</td>\n",
              "      <td>18.1</td>\n",
              "      <td>27</td>\n",
              "      <td>0.104</td>\n",
              "      <td>117.1</td>\n",
              "      <td>96</td>\n",
              "      <td>0.371</td>\n",
              "      <td>259</td>\n",
              "      <td>0.166</td>\n",
              "      <td>0.255</td>\n",
              "      <td>NaN</td>\n",
              "    </tr>\n",
              "  </tbody>\n",
              "</table>\n",
              "<p>4067 rows × 334 columns</p>\n",
              "</div>\n",
              "      <button class=\"colab-df-convert\" onclick=\"convertToInteractive('df-8c7462a4-fc73-444c-abff-9d7afa16a027')\"\n",
              "              title=\"Convert this dataframe to an interactive table.\"\n",
              "              style=\"display:none;\">\n",
              "\n",
              "  <svg xmlns=\"http://www.w3.org/2000/svg\" height=\"24px\"viewBox=\"0 0 24 24\"\n",
              "       width=\"24px\">\n",
              "    <path d=\"M0 0h24v24H0V0z\" fill=\"none\"/>\n",
              "    <path d=\"M18.56 5.44l.94 2.06.94-2.06 2.06-.94-2.06-.94-.94-2.06-.94 2.06-2.06.94zm-11 1L8.5 8.5l.94-2.06 2.06-.94-2.06-.94L8.5 2.5l-.94 2.06-2.06.94zm10 10l.94 2.06.94-2.06 2.06-.94-2.06-.94-.94-2.06-.94 2.06-2.06.94z\"/><path d=\"M17.41 7.96l-1.37-1.37c-.4-.4-.92-.59-1.43-.59-.52 0-1.04.2-1.43.59L10.3 9.45l-7.72 7.72c-.78.78-.78 2.05 0 2.83L4 21.41c.39.39.9.59 1.41.59.51 0 1.02-.2 1.41-.59l7.78-7.78 2.81-2.81c.8-.78.8-2.07 0-2.86zM5.41 20L4 18.59l7.72-7.72 1.47 1.35L5.41 20z\"/>\n",
              "  </svg>\n",
              "      </button>\n",
              "\n",
              "\n",
              "\n",
              "    <div id=\"df-829e79ea-b4ab-4019-98ad-a39a2647baaf\">\n",
              "      <button class=\"colab-df-quickchart\" onclick=\"quickchart('df-829e79ea-b4ab-4019-98ad-a39a2647baaf')\"\n",
              "              title=\"Suggest charts.\"\n",
              "              style=\"display:none;\">\n",
              "\n",
              "<svg xmlns=\"http://www.w3.org/2000/svg\" height=\"24px\"viewBox=\"0 0 24 24\"\n",
              "     width=\"24px\">\n",
              "    <g>\n",
              "        <path d=\"M19 3H5c-1.1 0-2 .9-2 2v14c0 1.1.9 2 2 2h14c1.1 0 2-.9 2-2V5c0-1.1-.9-2-2-2zM9 17H7v-7h2v7zm4 0h-2V7h2v10zm4 0h-2v-4h2v4z\"/>\n",
              "    </g>\n",
              "</svg>\n",
              "      </button>\n",
              "    </div>\n",
              "\n",
              "<style>\n",
              "  .colab-df-quickchart {\n",
              "    background-color: #E8F0FE;\n",
              "    border: none;\n",
              "    border-radius: 50%;\n",
              "    cursor: pointer;\n",
              "    display: none;\n",
              "    fill: #1967D2;\n",
              "    height: 32px;\n",
              "    padding: 0 0 0 0;\n",
              "    width: 32px;\n",
              "  }\n",
              "\n",
              "  .colab-df-quickchart:hover {\n",
              "    background-color: #E2EBFA;\n",
              "    box-shadow: 0px 1px 2px rgba(60, 64, 67, 0.3), 0px 1px 3px 1px rgba(60, 64, 67, 0.15);\n",
              "    fill: #174EA6;\n",
              "  }\n",
              "\n",
              "  [theme=dark] .colab-df-quickchart {\n",
              "    background-color: #3B4455;\n",
              "    fill: #D2E3FC;\n",
              "  }\n",
              "\n",
              "  [theme=dark] .colab-df-quickchart:hover {\n",
              "    background-color: #434B5C;\n",
              "    box-shadow: 0px 1px 3px 1px rgba(0, 0, 0, 0.15);\n",
              "    filter: drop-shadow(0px 1px 2px rgba(0, 0, 0, 0.3));\n",
              "    fill: #FFFFFF;\n",
              "  }\n",
              "</style>\n",
              "\n",
              "    <script>\n",
              "      async function quickchart(key) {\n",
              "        const containerElement = document.querySelector('#' + key);\n",
              "        const charts = await google.colab.kernel.invokeFunction(\n",
              "            'suggestCharts', [key], {});\n",
              "      }\n",
              "    </script>\n",
              "\n",
              "      <script>\n",
              "\n",
              "function displayQuickchartButton(domScope) {\n",
              "  let quickchartButtonEl =\n",
              "    domScope.querySelector('#df-829e79ea-b4ab-4019-98ad-a39a2647baaf button.colab-df-quickchart');\n",
              "  quickchartButtonEl.style.display =\n",
              "    google.colab.kernel.accessAllowed ? 'block' : 'none';\n",
              "}\n",
              "\n",
              "        displayQuickchartButton(document);\n",
              "      </script>\n",
              "      <style>\n",
              "    .colab-df-container {\n",
              "      display:flex;\n",
              "      flex-wrap:wrap;\n",
              "      gap: 12px;\n",
              "    }\n",
              "\n",
              "    .colab-df-convert {\n",
              "      background-color: #E8F0FE;\n",
              "      border: none;\n",
              "      border-radius: 50%;\n",
              "      cursor: pointer;\n",
              "      display: none;\n",
              "      fill: #1967D2;\n",
              "      height: 32px;\n",
              "      padding: 0 0 0 0;\n",
              "      width: 32px;\n",
              "    }\n",
              "\n",
              "    .colab-df-convert:hover {\n",
              "      background-color: #E2EBFA;\n",
              "      box-shadow: 0px 1px 2px rgba(60, 64, 67, 0.3), 0px 1px 3px 1px rgba(60, 64, 67, 0.15);\n",
              "      fill: #174EA6;\n",
              "    }\n",
              "\n",
              "    [theme=dark] .colab-df-convert {\n",
              "      background-color: #3B4455;\n",
              "      fill: #D2E3FC;\n",
              "    }\n",
              "\n",
              "    [theme=dark] .colab-df-convert:hover {\n",
              "      background-color: #434B5C;\n",
              "      box-shadow: 0px 1px 3px 1px rgba(0, 0, 0, 0.15);\n",
              "      filter: drop-shadow(0px 1px 2px rgba(0, 0, 0, 0.3));\n",
              "      fill: #FFFFFF;\n",
              "    }\n",
              "  </style>\n",
              "\n",
              "      <script>\n",
              "        const buttonEl =\n",
              "          document.querySelector('#df-8c7462a4-fc73-444c-abff-9d7afa16a027 button.colab-df-convert');\n",
              "        buttonEl.style.display =\n",
              "          google.colab.kernel.accessAllowed ? 'block' : 'none';\n",
              "\n",
              "        async function convertToInteractive(key) {\n",
              "          const element = document.querySelector('#df-8c7462a4-fc73-444c-abff-9d7afa16a027');\n",
              "          const dataTable =\n",
              "            await google.colab.kernel.invokeFunction('convertToInteractive',\n",
              "                                                     [key], {});\n",
              "          if (!dataTable) return;\n",
              "\n",
              "          const docLinkHtml = 'Like what you see? Visit the ' +\n",
              "            '<a target=\"_blank\" href=https://colab.research.google.com/notebooks/data_table.ipynb>data table notebook</a>'\n",
              "            + ' to learn more about interactive tables.';\n",
              "          element.innerHTML = '';\n",
              "          dataTable['output_type'] = 'display_data';\n",
              "          await google.colab.output.renderOutput(dataTable, element);\n",
              "          const docLink = document.createElement('div');\n",
              "          docLink.innerHTML = docLinkHtml;\n",
              "          element.appendChild(docLink);\n",
              "        }\n",
              "      </script>\n",
              "    </div>\n",
              "  </div>\n"
            ]
          },
          "metadata": {},
          "execution_count": 6
        }
      ]
    },
    {
      "cell_type": "markdown",
      "source": [
        "# Data Cleaning"
      ],
      "metadata": {
        "id": "xrK7kASxlDIs"
      }
    },
    {
      "cell_type": "code",
      "source": [
        "def next_season(player):\n",
        "    player = player.sort_values(\"Season\")\n",
        "    player[\"Next ERA\"] = player[\"ERA\"].shift(-1)\n",
        "    return player\n",
        "\n",
        "pitching = pitching.groupby(\"IDfg\", group_keys=False).apply(next_season)"
      ],
      "metadata": {
        "id": "KWp3zWw1vY3P"
      },
      "execution_count": 7,
      "outputs": []
    },
    {
      "cell_type": "code",
      "source": [
        "null_count = pitching.isnull().sum()"
      ],
      "metadata": {
        "id": "OPCwsLfwwMUF"
      },
      "execution_count": 8,
      "outputs": []
    },
    {
      "cell_type": "code",
      "source": [
        "no_null_columns = list(pitching.columns[null_count == 0])"
      ],
      "metadata": {
        "id": "fzNk4wwBw3dL"
      },
      "execution_count": 9,
      "outputs": []
    },
    {
      "cell_type": "code",
      "source": [
        "no_null_columns"
      ],
      "metadata": {
        "colab": {
          "base_uri": "https://localhost:8080/"
        },
        "id": "nOZzYkPyxN-x",
        "outputId": "3a6221a6-15ae-4526-e4ae-c7f7a946ffe2"
      },
      "execution_count": 10,
      "outputs": [
        {
          "output_type": "execute_result",
          "data": {
            "text/plain": [
              "['IDfg',\n",
              " 'Season',\n",
              " 'Name',\n",
              " 'Team',\n",
              " 'Age',\n",
              " 'W',\n",
              " 'L',\n",
              " 'WAR',\n",
              " 'ERA',\n",
              " 'G',\n",
              " 'GS',\n",
              " 'CG',\n",
              " 'ShO',\n",
              " 'SV',\n",
              " 'BS',\n",
              " 'IP',\n",
              " 'TBF',\n",
              " 'H',\n",
              " 'R',\n",
              " 'ER',\n",
              " 'HR',\n",
              " 'BB',\n",
              " 'IBB',\n",
              " 'HBP',\n",
              " 'WP',\n",
              " 'BK',\n",
              " 'SO',\n",
              " 'GB',\n",
              " 'FB',\n",
              " 'LD',\n",
              " 'IFFB',\n",
              " 'Balls',\n",
              " 'Strikes',\n",
              " 'Pitches',\n",
              " 'RS',\n",
              " 'IFH',\n",
              " 'BU',\n",
              " 'BUH',\n",
              " 'K/9',\n",
              " 'BB/9',\n",
              " 'K/BB',\n",
              " 'H/9',\n",
              " 'HR/9',\n",
              " 'AVG',\n",
              " 'WHIP',\n",
              " 'BABIP',\n",
              " 'LOB%',\n",
              " 'FIP',\n",
              " 'GB/FB',\n",
              " 'LD%',\n",
              " 'GB%',\n",
              " 'FB%',\n",
              " 'IFFB%',\n",
              " 'HR/FB',\n",
              " 'IFH%',\n",
              " 'BUH%',\n",
              " 'RAR',\n",
              " 'Dollars',\n",
              " 'tERA',\n",
              " 'xFIP',\n",
              " 'WPA',\n",
              " '-WPA',\n",
              " '+WPA',\n",
              " 'RE24',\n",
              " 'REW',\n",
              " 'pLI',\n",
              " 'inLI',\n",
              " 'gmLI',\n",
              " 'exLI',\n",
              " 'Pulls',\n",
              " 'WPA/LI',\n",
              " 'Clutch',\n",
              " 'O-Swing%',\n",
              " 'Z-Swing%',\n",
              " 'Swing%',\n",
              " 'O-Contact%',\n",
              " 'Z-Contact%',\n",
              " 'Contact%',\n",
              " 'Zone%',\n",
              " 'F-Strike%',\n",
              " 'SwStr%',\n",
              " 'HLD',\n",
              " 'SD',\n",
              " 'MD',\n",
              " 'ERA-',\n",
              " 'FIP-',\n",
              " 'xFIP-',\n",
              " 'K%',\n",
              " 'BB%',\n",
              " 'SIERA',\n",
              " 'RS/9',\n",
              " 'E-F',\n",
              " 'O-Swing% (sc)',\n",
              " 'Z-Swing% (sc)',\n",
              " 'Swing% (sc)',\n",
              " 'O-Contact% (sc)',\n",
              " 'Z-Contact% (sc)',\n",
              " 'Contact% (sc)',\n",
              " 'Zone% (sc)',\n",
              " 'Pace',\n",
              " 'RA9-WAR',\n",
              " 'BIP-Wins',\n",
              " 'LOB-Wins',\n",
              " 'FDP-Wins',\n",
              " 'Age Rng',\n",
              " 'K-BB%',\n",
              " 'Pull%',\n",
              " 'Cent%',\n",
              " 'Oppo%',\n",
              " 'Soft%',\n",
              " 'Med%',\n",
              " 'Hard%',\n",
              " 'kwERA',\n",
              " 'TTO%',\n",
              " 'O-Swing% (pi)',\n",
              " 'Z-Swing% (pi)',\n",
              " 'Swing% (pi)',\n",
              " 'O-Contact% (pi)',\n",
              " 'Z-Contact% (pi)',\n",
              " 'Contact% (pi)',\n",
              " 'Zone% (pi)',\n",
              " 'Pace (pi)',\n",
              " 'FRM',\n",
              " 'K/9+',\n",
              " 'BB/9+',\n",
              " 'K/BB+',\n",
              " 'H/9+',\n",
              " 'HR/9+',\n",
              " 'AVG+',\n",
              " 'WHIP+',\n",
              " 'BABIP+',\n",
              " 'LOB%+',\n",
              " 'K%+',\n",
              " 'BB%+',\n",
              " 'LD%+',\n",
              " 'GB%+',\n",
              " 'FB%+',\n",
              " 'HR/FB%+',\n",
              " 'Pull%+',\n",
              " 'Cent%+',\n",
              " 'Oppo%+',\n",
              " 'Soft%+',\n",
              " 'Med%+',\n",
              " 'Hard%+',\n",
              " 'EV',\n",
              " 'LA',\n",
              " 'Barrels',\n",
              " 'Barrel%',\n",
              " 'maxEV',\n",
              " 'HardHit',\n",
              " 'HardHit%',\n",
              " 'Events',\n",
              " 'CStr%',\n",
              " 'CSW%']"
            ]
          },
          "metadata": {},
          "execution_count": 10
        }
      ]
    },
    {
      "cell_type": "code",
      "source": [
        "pitching = pitching[no_null_columns + [\"Next ERA\"]].copy()"
      ],
      "metadata": {
        "id": "8B-7t14cxUU_"
      },
      "execution_count": 11,
      "outputs": []
    },
    {
      "cell_type": "code",
      "source": [
        "pitching.dtypes[pitching.dtypes == 'object']"
      ],
      "metadata": {
        "colab": {
          "base_uri": "https://localhost:8080/"
        },
        "id": "lPSgn8rHx8AR",
        "outputId": "46a05629-bde4-437c-c1f6-28e31a0ae63a"
      },
      "execution_count": 12,
      "outputs": [
        {
          "output_type": "execute_result",
          "data": {
            "text/plain": [
              "Name       object\n",
              "Team       object\n",
              "Dollars    object\n",
              "Age Rng    object\n",
              "dtype: object"
            ]
          },
          "metadata": {},
          "execution_count": 12
        }
      ]
    },
    {
      "cell_type": "code",
      "source": [
        "del pitching[\"Age Rng\"]\n",
        "del pitching[\"Dollars\"]\n",
        "del pitching[\"tERA\"]"
      ],
      "metadata": {
        "id": "zcJXOacnyPb5"
      },
      "execution_count": 13,
      "outputs": []
    },
    {
      "cell_type": "code",
      "source": [
        "pitching[\"team_code\"] = pitching[\"Team\"].astype(\"category\").cat.codes"
      ],
      "metadata": {
        "id": "uNpfGIImyqni"
      },
      "execution_count": 14,
      "outputs": []
    },
    {
      "cell_type": "code",
      "source": [
        "pitching_full = pitching.copy()\n",
        "pitching = pitching.dropna()"
      ],
      "metadata": {
        "id": "dMIRhTGgy4Fn"
      },
      "execution_count": 15,
      "outputs": []
    },
    {
      "cell_type": "markdown",
      "source": [
        "# Machine Learning"
      ],
      "metadata": {
        "id": "M5SxoiYhlXAt"
      }
    },
    {
      "cell_type": "code",
      "source": [
        "from sklearn.linear_model import Ridge\n",
        "from sklearn.feature_selection import SequentialFeatureSelector\n",
        "from sklearn.model_selection import TimeSeriesSplit\n",
        "\n",
        "rr = Ridge(alpha=1)\n",
        "\n",
        "split = TimeSeriesSplit(n_splits=3)\n",
        "\n",
        "sfs = SequentialFeatureSelector(rr, n_features_to_select=45, direction=\"forward\", cv=split, n_jobs=4)"
      ],
      "metadata": {
        "id": "XFZEZkd5zspX"
      },
      "execution_count": 16,
      "outputs": []
    },
    {
      "cell_type": "code",
      "source": [
        "removed_columns = [\"Next ERA\", \"Name\", \"Team\", \"IDfg\", \"Season\", \"Events\"]\n",
        "selected_columns = pitching.columns[~pitching.columns.isin(removed_columns)]\n",
        "selected_columns"
      ],
      "metadata": {
        "colab": {
          "base_uri": "https://localhost:8080/"
        },
        "id": "LeZX-aYo1axl",
        "outputId": "c5f9ecbd-d8a0-4dc8-f4df-a631c6cae2de"
      },
      "execution_count": 17,
      "outputs": [
        {
          "output_type": "execute_result",
          "data": {
            "text/plain": [
              "Index(['Age', 'W', 'L', 'WAR', 'ERA', 'G', 'GS', 'CG', 'ShO', 'SV',\n",
              "       ...\n",
              "       'EV', 'LA', 'Barrels', 'Barrel%', 'maxEV', 'HardHit', 'HardHit%',\n",
              "       'CStr%', 'CSW%', 'team_code'],\n",
              "      dtype='object', length=147)"
            ]
          },
          "metadata": {},
          "execution_count": 17
        }
      ]
    },
    {
      "cell_type": "code",
      "source": [
        "from sklearn.preprocessing import MinMaxScaler\n",
        "\n",
        "scaler = MinMaxScaler()\n",
        "pitching.loc[:, selected_columns] = scaler.fit_transform(pitching[selected_columns])"
      ],
      "metadata": {
        "id": "aJJOh5tx2Fmf"
      },
      "execution_count": 18,
      "outputs": []
    },
    {
      "cell_type": "code",
      "source": [
        "pitching.describe()"
      ],
      "metadata": {
        "colab": {
          "base_uri": "https://localhost:8080/",
          "height": 330
        },
        "id": "A6W4FYpw277R",
        "outputId": "a8c16056-46aa-4c34-a14a-fa777de6c5ac"
      },
      "execution_count": 19,
      "outputs": [
        {
          "output_type": "execute_result",
          "data": {
            "text/plain": [
              "               IDfg       Season          Age            W            L  \\\n",
              "count   3072.000000  3072.000000  3072.000000  3072.000000  3072.000000   \n",
              "mean   12003.556315  2018.328776     0.358685     0.219963     0.238418   \n",
              "std     5486.120661     2.270386     0.141712     0.186344     0.184004   \n",
              "min       18.000000  2015.000000     0.000000     0.000000     0.000000   \n",
              "25%     7593.000000  2016.000000     0.240000     0.090909     0.105263   \n",
              "50%    12768.000000  2018.000000     0.360000     0.181818     0.210526   \n",
              "75%    15823.000000  2020.000000     0.440000     0.318182     0.368421   \n",
              "max    27779.000000  2022.000000     1.000000     1.000000     1.000000   \n",
              "\n",
              "               WAR          ERA            G           GS           CG  ...  \\\n",
              "count  3072.000000  3072.000000  3072.000000  3072.000000  3072.000000  ...   \n",
              "mean      0.233201     0.337545     0.394486     0.284105     0.022569  ...   \n",
              "std       0.125922     0.115573     0.249250     0.333335     0.082236  ...   \n",
              "min       0.000000     0.000000     0.000000     0.000000     0.000000  ...   \n",
              "25%       0.153846     0.258958     0.215190     0.000000     0.000000  ...   \n",
              "50%       0.192308     0.325000     0.341772     0.142857     0.000000  ...   \n",
              "75%       0.278846     0.400833     0.607595     0.571429     0.000000  ...   \n",
              "max       1.000000     1.000000     1.000000     1.000000     1.000000  ...   \n",
              "\n",
              "           Barrels      Barrel%        maxEV      HardHit     HardHit%  \\\n",
              "count  3072.000000  3072.000000  3072.000000  3072.000000  3072.000000   \n",
              "mean      0.244538     0.360082     0.460614     0.290324     0.533308   \n",
              "std       0.181854     0.144159     0.141269     0.218104     0.135972   \n",
              "min       0.000000     0.000000     0.000000     0.000000     0.000000   \n",
              "25%       0.101695     0.260116     0.366120     0.127930     0.443325   \n",
              "50%       0.186441     0.346821     0.453552     0.207031     0.531486   \n",
              "75%       0.338983     0.445087     0.547814     0.429688     0.622166   \n",
              "max       1.000000     1.000000     1.000000     1.000000     1.000000   \n",
              "\n",
              "            Events        CStr%         CSW%     Next ERA    team_code  \n",
              "count  3072.000000  3072.000000  3072.000000  3072.000000  3072.000000  \n",
              "mean    234.174154     0.502370     0.440718     4.220241     0.453049  \n",
              "std     155.876520     0.135933     0.118577     1.482204     0.310661  \n",
              "min      35.000000     0.000000     0.000000     0.000000     0.000000  \n",
              "25%     119.000000     0.413333     0.359504     3.200000     0.166667  \n",
              "50%     175.000000     0.500000     0.429752     4.055000     0.433333  \n",
              "75%     335.250000     0.586667     0.512397     5.020000     0.700000  \n",
              "max     686.000000     1.000000     1.000000    12.050000     1.000000  \n",
              "\n",
              "[8 rows x 151 columns]"
            ],
            "text/html": [
              "\n",
              "\n",
              "  <div id=\"df-497189b5-61d1-4460-aa45-6ac1d6ac48e3\">\n",
              "    <div class=\"colab-df-container\">\n",
              "      <div>\n",
              "<style scoped>\n",
              "    .dataframe tbody tr th:only-of-type {\n",
              "        vertical-align: middle;\n",
              "    }\n",
              "\n",
              "    .dataframe tbody tr th {\n",
              "        vertical-align: top;\n",
              "    }\n",
              "\n",
              "    .dataframe thead th {\n",
              "        text-align: right;\n",
              "    }\n",
              "</style>\n",
              "<table border=\"1\" class=\"dataframe\">\n",
              "  <thead>\n",
              "    <tr style=\"text-align: right;\">\n",
              "      <th></th>\n",
              "      <th>IDfg</th>\n",
              "      <th>Season</th>\n",
              "      <th>Age</th>\n",
              "      <th>W</th>\n",
              "      <th>L</th>\n",
              "      <th>WAR</th>\n",
              "      <th>ERA</th>\n",
              "      <th>G</th>\n",
              "      <th>GS</th>\n",
              "      <th>CG</th>\n",
              "      <th>...</th>\n",
              "      <th>Barrels</th>\n",
              "      <th>Barrel%</th>\n",
              "      <th>maxEV</th>\n",
              "      <th>HardHit</th>\n",
              "      <th>HardHit%</th>\n",
              "      <th>Events</th>\n",
              "      <th>CStr%</th>\n",
              "      <th>CSW%</th>\n",
              "      <th>Next ERA</th>\n",
              "      <th>team_code</th>\n",
              "    </tr>\n",
              "  </thead>\n",
              "  <tbody>\n",
              "    <tr>\n",
              "      <th>count</th>\n",
              "      <td>3072.000000</td>\n",
              "      <td>3072.000000</td>\n",
              "      <td>3072.000000</td>\n",
              "      <td>3072.000000</td>\n",
              "      <td>3072.000000</td>\n",
              "      <td>3072.000000</td>\n",
              "      <td>3072.000000</td>\n",
              "      <td>3072.000000</td>\n",
              "      <td>3072.000000</td>\n",
              "      <td>3072.000000</td>\n",
              "      <td>...</td>\n",
              "      <td>3072.000000</td>\n",
              "      <td>3072.000000</td>\n",
              "      <td>3072.000000</td>\n",
              "      <td>3072.000000</td>\n",
              "      <td>3072.000000</td>\n",
              "      <td>3072.000000</td>\n",
              "      <td>3072.000000</td>\n",
              "      <td>3072.000000</td>\n",
              "      <td>3072.000000</td>\n",
              "      <td>3072.000000</td>\n",
              "    </tr>\n",
              "    <tr>\n",
              "      <th>mean</th>\n",
              "      <td>12003.556315</td>\n",
              "      <td>2018.328776</td>\n",
              "      <td>0.358685</td>\n",
              "      <td>0.219963</td>\n",
              "      <td>0.238418</td>\n",
              "      <td>0.233201</td>\n",
              "      <td>0.337545</td>\n",
              "      <td>0.394486</td>\n",
              "      <td>0.284105</td>\n",
              "      <td>0.022569</td>\n",
              "      <td>...</td>\n",
              "      <td>0.244538</td>\n",
              "      <td>0.360082</td>\n",
              "      <td>0.460614</td>\n",
              "      <td>0.290324</td>\n",
              "      <td>0.533308</td>\n",
              "      <td>234.174154</td>\n",
              "      <td>0.502370</td>\n",
              "      <td>0.440718</td>\n",
              "      <td>4.220241</td>\n",
              "      <td>0.453049</td>\n",
              "    </tr>\n",
              "    <tr>\n",
              "      <th>std</th>\n",
              "      <td>5486.120661</td>\n",
              "      <td>2.270386</td>\n",
              "      <td>0.141712</td>\n",
              "      <td>0.186344</td>\n",
              "      <td>0.184004</td>\n",
              "      <td>0.125922</td>\n",
              "      <td>0.115573</td>\n",
              "      <td>0.249250</td>\n",
              "      <td>0.333335</td>\n",
              "      <td>0.082236</td>\n",
              "      <td>...</td>\n",
              "      <td>0.181854</td>\n",
              "      <td>0.144159</td>\n",
              "      <td>0.141269</td>\n",
              "      <td>0.218104</td>\n",
              "      <td>0.135972</td>\n",
              "      <td>155.876520</td>\n",
              "      <td>0.135933</td>\n",
              "      <td>0.118577</td>\n",
              "      <td>1.482204</td>\n",
              "      <td>0.310661</td>\n",
              "    </tr>\n",
              "    <tr>\n",
              "      <th>min</th>\n",
              "      <td>18.000000</td>\n",
              "      <td>2015.000000</td>\n",
              "      <td>0.000000</td>\n",
              "      <td>0.000000</td>\n",
              "      <td>0.000000</td>\n",
              "      <td>0.000000</td>\n",
              "      <td>0.000000</td>\n",
              "      <td>0.000000</td>\n",
              "      <td>0.000000</td>\n",
              "      <td>0.000000</td>\n",
              "      <td>...</td>\n",
              "      <td>0.000000</td>\n",
              "      <td>0.000000</td>\n",
              "      <td>0.000000</td>\n",
              "      <td>0.000000</td>\n",
              "      <td>0.000000</td>\n",
              "      <td>35.000000</td>\n",
              "      <td>0.000000</td>\n",
              "      <td>0.000000</td>\n",
              "      <td>0.000000</td>\n",
              "      <td>0.000000</td>\n",
              "    </tr>\n",
              "    <tr>\n",
              "      <th>25%</th>\n",
              "      <td>7593.000000</td>\n",
              "      <td>2016.000000</td>\n",
              "      <td>0.240000</td>\n",
              "      <td>0.090909</td>\n",
              "      <td>0.105263</td>\n",
              "      <td>0.153846</td>\n",
              "      <td>0.258958</td>\n",
              "      <td>0.215190</td>\n",
              "      <td>0.000000</td>\n",
              "      <td>0.000000</td>\n",
              "      <td>...</td>\n",
              "      <td>0.101695</td>\n",
              "      <td>0.260116</td>\n",
              "      <td>0.366120</td>\n",
              "      <td>0.127930</td>\n",
              "      <td>0.443325</td>\n",
              "      <td>119.000000</td>\n",
              "      <td>0.413333</td>\n",
              "      <td>0.359504</td>\n",
              "      <td>3.200000</td>\n",
              "      <td>0.166667</td>\n",
              "    </tr>\n",
              "    <tr>\n",
              "      <th>50%</th>\n",
              "      <td>12768.000000</td>\n",
              "      <td>2018.000000</td>\n",
              "      <td>0.360000</td>\n",
              "      <td>0.181818</td>\n",
              "      <td>0.210526</td>\n",
              "      <td>0.192308</td>\n",
              "      <td>0.325000</td>\n",
              "      <td>0.341772</td>\n",
              "      <td>0.142857</td>\n",
              "      <td>0.000000</td>\n",
              "      <td>...</td>\n",
              "      <td>0.186441</td>\n",
              "      <td>0.346821</td>\n",
              "      <td>0.453552</td>\n",
              "      <td>0.207031</td>\n",
              "      <td>0.531486</td>\n",
              "      <td>175.000000</td>\n",
              "      <td>0.500000</td>\n",
              "      <td>0.429752</td>\n",
              "      <td>4.055000</td>\n",
              "      <td>0.433333</td>\n",
              "    </tr>\n",
              "    <tr>\n",
              "      <th>75%</th>\n",
              "      <td>15823.000000</td>\n",
              "      <td>2020.000000</td>\n",
              "      <td>0.440000</td>\n",
              "      <td>0.318182</td>\n",
              "      <td>0.368421</td>\n",
              "      <td>0.278846</td>\n",
              "      <td>0.400833</td>\n",
              "      <td>0.607595</td>\n",
              "      <td>0.571429</td>\n",
              "      <td>0.000000</td>\n",
              "      <td>...</td>\n",
              "      <td>0.338983</td>\n",
              "      <td>0.445087</td>\n",
              "      <td>0.547814</td>\n",
              "      <td>0.429688</td>\n",
              "      <td>0.622166</td>\n",
              "      <td>335.250000</td>\n",
              "      <td>0.586667</td>\n",
              "      <td>0.512397</td>\n",
              "      <td>5.020000</td>\n",
              "      <td>0.700000</td>\n",
              "    </tr>\n",
              "    <tr>\n",
              "      <th>max</th>\n",
              "      <td>27779.000000</td>\n",
              "      <td>2022.000000</td>\n",
              "      <td>1.000000</td>\n",
              "      <td>1.000000</td>\n",
              "      <td>1.000000</td>\n",
              "      <td>1.000000</td>\n",
              "      <td>1.000000</td>\n",
              "      <td>1.000000</td>\n",
              "      <td>1.000000</td>\n",
              "      <td>1.000000</td>\n",
              "      <td>...</td>\n",
              "      <td>1.000000</td>\n",
              "      <td>1.000000</td>\n",
              "      <td>1.000000</td>\n",
              "      <td>1.000000</td>\n",
              "      <td>1.000000</td>\n",
              "      <td>686.000000</td>\n",
              "      <td>1.000000</td>\n",
              "      <td>1.000000</td>\n",
              "      <td>12.050000</td>\n",
              "      <td>1.000000</td>\n",
              "    </tr>\n",
              "  </tbody>\n",
              "</table>\n",
              "<p>8 rows × 151 columns</p>\n",
              "</div>\n",
              "      <button class=\"colab-df-convert\" onclick=\"convertToInteractive('df-497189b5-61d1-4460-aa45-6ac1d6ac48e3')\"\n",
              "              title=\"Convert this dataframe to an interactive table.\"\n",
              "              style=\"display:none;\">\n",
              "\n",
              "  <svg xmlns=\"http://www.w3.org/2000/svg\" height=\"24px\"viewBox=\"0 0 24 24\"\n",
              "       width=\"24px\">\n",
              "    <path d=\"M0 0h24v24H0V0z\" fill=\"none\"/>\n",
              "    <path d=\"M18.56 5.44l.94 2.06.94-2.06 2.06-.94-2.06-.94-.94-2.06-.94 2.06-2.06.94zm-11 1L8.5 8.5l.94-2.06 2.06-.94-2.06-.94L8.5 2.5l-.94 2.06-2.06.94zm10 10l.94 2.06.94-2.06 2.06-.94-2.06-.94-.94-2.06-.94 2.06-2.06.94z\"/><path d=\"M17.41 7.96l-1.37-1.37c-.4-.4-.92-.59-1.43-.59-.52 0-1.04.2-1.43.59L10.3 9.45l-7.72 7.72c-.78.78-.78 2.05 0 2.83L4 21.41c.39.39.9.59 1.41.59.51 0 1.02-.2 1.41-.59l7.78-7.78 2.81-2.81c.8-.78.8-2.07 0-2.86zM5.41 20L4 18.59l7.72-7.72 1.47 1.35L5.41 20z\"/>\n",
              "  </svg>\n",
              "      </button>\n",
              "\n",
              "\n",
              "\n",
              "    <div id=\"df-59dacad1-84a8-49d6-8087-70bd8cd6a358\">\n",
              "      <button class=\"colab-df-quickchart\" onclick=\"quickchart('df-59dacad1-84a8-49d6-8087-70bd8cd6a358')\"\n",
              "              title=\"Suggest charts.\"\n",
              "              style=\"display:none;\">\n",
              "\n",
              "<svg xmlns=\"http://www.w3.org/2000/svg\" height=\"24px\"viewBox=\"0 0 24 24\"\n",
              "     width=\"24px\">\n",
              "    <g>\n",
              "        <path d=\"M19 3H5c-1.1 0-2 .9-2 2v14c0 1.1.9 2 2 2h14c1.1 0 2-.9 2-2V5c0-1.1-.9-2-2-2zM9 17H7v-7h2v7zm4 0h-2V7h2v10zm4 0h-2v-4h2v4z\"/>\n",
              "    </g>\n",
              "</svg>\n",
              "      </button>\n",
              "    </div>\n",
              "\n",
              "<style>\n",
              "  .colab-df-quickchart {\n",
              "    background-color: #E8F0FE;\n",
              "    border: none;\n",
              "    border-radius: 50%;\n",
              "    cursor: pointer;\n",
              "    display: none;\n",
              "    fill: #1967D2;\n",
              "    height: 32px;\n",
              "    padding: 0 0 0 0;\n",
              "    width: 32px;\n",
              "  }\n",
              "\n",
              "  .colab-df-quickchart:hover {\n",
              "    background-color: #E2EBFA;\n",
              "    box-shadow: 0px 1px 2px rgba(60, 64, 67, 0.3), 0px 1px 3px 1px rgba(60, 64, 67, 0.15);\n",
              "    fill: #174EA6;\n",
              "  }\n",
              "\n",
              "  [theme=dark] .colab-df-quickchart {\n",
              "    background-color: #3B4455;\n",
              "    fill: #D2E3FC;\n",
              "  }\n",
              "\n",
              "  [theme=dark] .colab-df-quickchart:hover {\n",
              "    background-color: #434B5C;\n",
              "    box-shadow: 0px 1px 3px 1px rgba(0, 0, 0, 0.15);\n",
              "    filter: drop-shadow(0px 1px 2px rgba(0, 0, 0, 0.3));\n",
              "    fill: #FFFFFF;\n",
              "  }\n",
              "</style>\n",
              "\n",
              "    <script>\n",
              "      async function quickchart(key) {\n",
              "        const containerElement = document.querySelector('#' + key);\n",
              "        const charts = await google.colab.kernel.invokeFunction(\n",
              "            'suggestCharts', [key], {});\n",
              "      }\n",
              "    </script>\n",
              "\n",
              "      <script>\n",
              "\n",
              "function displayQuickchartButton(domScope) {\n",
              "  let quickchartButtonEl =\n",
              "    domScope.querySelector('#df-59dacad1-84a8-49d6-8087-70bd8cd6a358 button.colab-df-quickchart');\n",
              "  quickchartButtonEl.style.display =\n",
              "    google.colab.kernel.accessAllowed ? 'block' : 'none';\n",
              "}\n",
              "\n",
              "        displayQuickchartButton(document);\n",
              "      </script>\n",
              "      <style>\n",
              "    .colab-df-container {\n",
              "      display:flex;\n",
              "      flex-wrap:wrap;\n",
              "      gap: 12px;\n",
              "    }\n",
              "\n",
              "    .colab-df-convert {\n",
              "      background-color: #E8F0FE;\n",
              "      border: none;\n",
              "      border-radius: 50%;\n",
              "      cursor: pointer;\n",
              "      display: none;\n",
              "      fill: #1967D2;\n",
              "      height: 32px;\n",
              "      padding: 0 0 0 0;\n",
              "      width: 32px;\n",
              "    }\n",
              "\n",
              "    .colab-df-convert:hover {\n",
              "      background-color: #E2EBFA;\n",
              "      box-shadow: 0px 1px 2px rgba(60, 64, 67, 0.3), 0px 1px 3px 1px rgba(60, 64, 67, 0.15);\n",
              "      fill: #174EA6;\n",
              "    }\n",
              "\n",
              "    [theme=dark] .colab-df-convert {\n",
              "      background-color: #3B4455;\n",
              "      fill: #D2E3FC;\n",
              "    }\n",
              "\n",
              "    [theme=dark] .colab-df-convert:hover {\n",
              "      background-color: #434B5C;\n",
              "      box-shadow: 0px 1px 3px 1px rgba(0, 0, 0, 0.15);\n",
              "      filter: drop-shadow(0px 1px 2px rgba(0, 0, 0, 0.3));\n",
              "      fill: #FFFFFF;\n",
              "    }\n",
              "  </style>\n",
              "\n",
              "      <script>\n",
              "        const buttonEl =\n",
              "          document.querySelector('#df-497189b5-61d1-4460-aa45-6ac1d6ac48e3 button.colab-df-convert');\n",
              "        buttonEl.style.display =\n",
              "          google.colab.kernel.accessAllowed ? 'block' : 'none';\n",
              "\n",
              "        async function convertToInteractive(key) {\n",
              "          const element = document.querySelector('#df-497189b5-61d1-4460-aa45-6ac1d6ac48e3');\n",
              "          const dataTable =\n",
              "            await google.colab.kernel.invokeFunction('convertToInteractive',\n",
              "                                                     [key], {});\n",
              "          if (!dataTable) return;\n",
              "\n",
              "          const docLinkHtml = 'Like what you see? Visit the ' +\n",
              "            '<a target=\"_blank\" href=https://colab.research.google.com/notebooks/data_table.ipynb>data table notebook</a>'\n",
              "            + ' to learn more about interactive tables.';\n",
              "          element.innerHTML = '';\n",
              "          dataTable['output_type'] = 'display_data';\n",
              "          await google.colab.output.renderOutput(dataTable, element);\n",
              "          const docLink = document.createElement('div');\n",
              "          docLink.innerHTML = docLinkHtml;\n",
              "          element.appendChild(docLink);\n",
              "        }\n",
              "      </script>\n",
              "    </div>\n",
              "  </div>\n"
            ]
          },
          "metadata": {},
          "execution_count": 19
        }
      ]
    },
    {
      "cell_type": "code",
      "source": [
        "sfs.fit(pitching[selected_columns], pitching[\"Next ERA\"])"
      ],
      "metadata": {
        "colab": {
          "base_uri": "https://localhost:8080/",
          "height": 118
        },
        "id": "mUJiYdXd3KYH",
        "outputId": "7f9ead72-4467-4977-9ccd-a7a5e7724e7d"
      },
      "execution_count": 20,
      "outputs": [
        {
          "output_type": "execute_result",
          "data": {
            "text/plain": [
              "SequentialFeatureSelector(cv=TimeSeriesSplit(gap=0, max_train_size=None, n_splits=3, test_size=None),\n",
              "                          estimator=Ridge(alpha=1), n_features_to_select=45,\n",
              "                          n_jobs=4)"
            ],
            "text/html": [
              "<style>#sk-container-id-1 {color: black;background-color: white;}#sk-container-id-1 pre{padding: 0;}#sk-container-id-1 div.sk-toggleable {background-color: white;}#sk-container-id-1 label.sk-toggleable__label {cursor: pointer;display: block;width: 100%;margin-bottom: 0;padding: 0.3em;box-sizing: border-box;text-align: center;}#sk-container-id-1 label.sk-toggleable__label-arrow:before {content: \"▸\";float: left;margin-right: 0.25em;color: #696969;}#sk-container-id-1 label.sk-toggleable__label-arrow:hover:before {color: black;}#sk-container-id-1 div.sk-estimator:hover label.sk-toggleable__label-arrow:before {color: black;}#sk-container-id-1 div.sk-toggleable__content {max-height: 0;max-width: 0;overflow: hidden;text-align: left;background-color: #f0f8ff;}#sk-container-id-1 div.sk-toggleable__content pre {margin: 0.2em;color: black;border-radius: 0.25em;background-color: #f0f8ff;}#sk-container-id-1 input.sk-toggleable__control:checked~div.sk-toggleable__content {max-height: 200px;max-width: 100%;overflow: auto;}#sk-container-id-1 input.sk-toggleable__control:checked~label.sk-toggleable__label-arrow:before {content: \"▾\";}#sk-container-id-1 div.sk-estimator input.sk-toggleable__control:checked~label.sk-toggleable__label {background-color: #d4ebff;}#sk-container-id-1 div.sk-label input.sk-toggleable__control:checked~label.sk-toggleable__label {background-color: #d4ebff;}#sk-container-id-1 input.sk-hidden--visually {border: 0;clip: rect(1px 1px 1px 1px);clip: rect(1px, 1px, 1px, 1px);height: 1px;margin: -1px;overflow: hidden;padding: 0;position: absolute;width: 1px;}#sk-container-id-1 div.sk-estimator {font-family: monospace;background-color: #f0f8ff;border: 1px dotted black;border-radius: 0.25em;box-sizing: border-box;margin-bottom: 0.5em;}#sk-container-id-1 div.sk-estimator:hover {background-color: #d4ebff;}#sk-container-id-1 div.sk-parallel-item::after {content: \"\";width: 100%;border-bottom: 1px solid gray;flex-grow: 1;}#sk-container-id-1 div.sk-label:hover label.sk-toggleable__label {background-color: #d4ebff;}#sk-container-id-1 div.sk-serial::before {content: \"\";position: absolute;border-left: 1px solid gray;box-sizing: border-box;top: 0;bottom: 0;left: 50%;z-index: 0;}#sk-container-id-1 div.sk-serial {display: flex;flex-direction: column;align-items: center;background-color: white;padding-right: 0.2em;padding-left: 0.2em;position: relative;}#sk-container-id-1 div.sk-item {position: relative;z-index: 1;}#sk-container-id-1 div.sk-parallel {display: flex;align-items: stretch;justify-content: center;background-color: white;position: relative;}#sk-container-id-1 div.sk-item::before, #sk-container-id-1 div.sk-parallel-item::before {content: \"\";position: absolute;border-left: 1px solid gray;box-sizing: border-box;top: 0;bottom: 0;left: 50%;z-index: -1;}#sk-container-id-1 div.sk-parallel-item {display: flex;flex-direction: column;z-index: 1;position: relative;background-color: white;}#sk-container-id-1 div.sk-parallel-item:first-child::after {align-self: flex-end;width: 50%;}#sk-container-id-1 div.sk-parallel-item:last-child::after {align-self: flex-start;width: 50%;}#sk-container-id-1 div.sk-parallel-item:only-child::after {width: 0;}#sk-container-id-1 div.sk-dashed-wrapped {border: 1px dashed gray;margin: 0 0.4em 0.5em 0.4em;box-sizing: border-box;padding-bottom: 0.4em;background-color: white;}#sk-container-id-1 div.sk-label label {font-family: monospace;font-weight: bold;display: inline-block;line-height: 1.2em;}#sk-container-id-1 div.sk-label-container {text-align: center;}#sk-container-id-1 div.sk-container {/* jupyter's `normalize.less` sets `[hidden] { display: none; }` but bootstrap.min.css set `[hidden] { display: none !important; }` so we also need the `!important` here to be able to override the default hidden behavior on the sphinx rendered scikit-learn.org. See: https://github.com/scikit-learn/scikit-learn/issues/21755 */display: inline-block !important;position: relative;}#sk-container-id-1 div.sk-text-repr-fallback {display: none;}</style><div id=\"sk-container-id-1\" class=\"sk-top-container\"><div class=\"sk-text-repr-fallback\"><pre>SequentialFeatureSelector(cv=TimeSeriesSplit(gap=0, max_train_size=None, n_splits=3, test_size=None),\n",
              "                          estimator=Ridge(alpha=1), n_features_to_select=45,\n",
              "                          n_jobs=4)</pre><b>In a Jupyter environment, please rerun this cell to show the HTML representation or trust the notebook. <br />On GitHub, the HTML representation is unable to render, please try loading this page with nbviewer.org.</b></div><div class=\"sk-container\" hidden><div class=\"sk-item sk-dashed-wrapped\"><div class=\"sk-label-container\"><div class=\"sk-label sk-toggleable\"><input class=\"sk-toggleable__control sk-hidden--visually\" id=\"sk-estimator-id-1\" type=\"checkbox\" ><label for=\"sk-estimator-id-1\" class=\"sk-toggleable__label sk-toggleable__label-arrow\">SequentialFeatureSelector</label><div class=\"sk-toggleable__content\"><pre>SequentialFeatureSelector(cv=TimeSeriesSplit(gap=0, max_train_size=None, n_splits=3, test_size=None),\n",
              "                          estimator=Ridge(alpha=1), n_features_to_select=45,\n",
              "                          n_jobs=4)</pre></div></div></div><div class=\"sk-parallel\"><div class=\"sk-parallel-item\"><div class=\"sk-item\"><div class=\"sk-label-container\"><div class=\"sk-label sk-toggleable\"><input class=\"sk-toggleable__control sk-hidden--visually\" id=\"sk-estimator-id-2\" type=\"checkbox\" ><label for=\"sk-estimator-id-2\" class=\"sk-toggleable__label sk-toggleable__label-arrow\">estimator: Ridge</label><div class=\"sk-toggleable__content\"><pre>Ridge(alpha=1)</pre></div></div></div><div class=\"sk-serial\"><div class=\"sk-item\"><div class=\"sk-estimator sk-toggleable\"><input class=\"sk-toggleable__control sk-hidden--visually\" id=\"sk-estimator-id-3\" type=\"checkbox\" ><label for=\"sk-estimator-id-3\" class=\"sk-toggleable__label sk-toggleable__label-arrow\">Ridge</label><div class=\"sk-toggleable__content\"><pre>Ridge(alpha=1)</pre></div></div></div></div></div></div></div></div></div></div>"
            ]
          },
          "metadata": {},
          "execution_count": 20
        }
      ]
    },
    {
      "cell_type": "code",
      "source": [
        "predictors = list(selected_columns[sfs.get_support()])\n",
        "predictors"
      ],
      "metadata": {
        "colab": {
          "base_uri": "https://localhost:8080/"
        },
        "id": "iYGZe-RL4E4g",
        "outputId": "34c76a89-7145-4244-c50b-8f13e1190c80"
      },
      "execution_count": 53,
      "outputs": [
        {
          "output_type": "execute_result",
          "data": {
            "text/plain": [
              "['WAR',\n",
              " 'CG',\n",
              " 'ShO',\n",
              " 'BS',\n",
              " 'IP',\n",
              " 'TBF',\n",
              " 'R',\n",
              " 'ER',\n",
              " 'WP',\n",
              " 'SO',\n",
              " 'GB',\n",
              " 'FB',\n",
              " 'IFFB',\n",
              " 'Strikes',\n",
              " 'LOB%',\n",
              " 'FIP',\n",
              " 'GB/FB',\n",
              " 'FB%',\n",
              " 'IFH%',\n",
              " 'RAR',\n",
              " 'Clutch',\n",
              " 'Swing%',\n",
              " 'Z-Contact%',\n",
              " 'Contact%',\n",
              " 'MD',\n",
              " 'FIP-',\n",
              " 'K%',\n",
              " 'Swing% (sc)',\n",
              " 'Contact% (sc)',\n",
              " 'Pace',\n",
              " 'LOB-Wins',\n",
              " 'Cent%',\n",
              " 'Hard%',\n",
              " 'TTO%',\n",
              " 'Z-Swing% (pi)',\n",
              " 'Swing% (pi)',\n",
              " 'Contact% (pi)',\n",
              " 'Pace (pi)',\n",
              " 'K/BB+',\n",
              " 'LOB%+',\n",
              " 'FB%+',\n",
              " 'Cent%+',\n",
              " 'Med%+',\n",
              " 'EV',\n",
              " 'LA']"
            ]
          },
          "metadata": {},
          "execution_count": 53
        }
      ]
    },
    {
      "cell_type": "code",
      "source": [
        "def backtest(data, model, predictors, start=5, step=1):\n",
        "    all_predictions = []\n",
        "    years = sorted(data[\"Season\"].unique())\n",
        "\n",
        "    for i in range(start, len(years), step):\n",
        "        current_year = years[i]\n",
        "\n",
        "        train = data[data[\"Season\"] < current_year]\n",
        "        test = data[data[\"Season\"] == current_year]\n",
        "        model.fit(train[predictors], train[\"Next ERA\"])\n",
        "\n",
        "        preds = model.predict(test[predictors])\n",
        "        preds = pd.Series(preds, index=test.index)\n",
        "        combined = pd.concat([test[\"Next ERA\"], preds], axis=1)\n",
        "        combined.columns = [\"actual\", \"prediction\"]\n",
        "        all_predictions.append(combined)\n",
        "    return pd.concat(all_predictions)"
      ],
      "metadata": {
        "id": "3KT1JtfW8ViT"
      },
      "execution_count": 54,
      "outputs": []
    },
    {
      "cell_type": "code",
      "source": [
        "predictions = backtest(pitching, rr, predictors)"
      ],
      "metadata": {
        "id": "UnQk-sts9eac"
      },
      "execution_count": 55,
      "outputs": []
    },
    {
      "cell_type": "code",
      "source": [
        "from sklearn.metrics import mean_squared_error\n",
        "\n",
        "mse = mean_squared_error(predictions[\"actual\"], predictions[\"prediction\"])\n",
        "mse ** 0.5"
      ],
      "metadata": {
        "colab": {
          "base_uri": "https://localhost:8080/"
        },
        "id": "DTmi8s0PFDU7",
        "outputId": "297b1380-e97e-4076-fe79-6d566d71e506"
      },
      "execution_count": 56,
      "outputs": [
        {
          "output_type": "execute_result",
          "data": {
            "text/plain": [
              "1.3456679529826756"
            ]
          },
          "metadata": {},
          "execution_count": 56
        }
      ]
    },
    {
      "cell_type": "code",
      "source": [
        "pitching[\"Next ERA\"].describe()"
      ],
      "metadata": {
        "colab": {
          "base_uri": "https://localhost:8080/"
        },
        "id": "9G0EW2AyFmK5",
        "outputId": "650050e7-6a32-4b90-e3c7-d16c8a7efe38"
      },
      "execution_count": 57,
      "outputs": [
        {
          "output_type": "execute_result",
          "data": {
            "text/plain": [
              "count    3072.000000\n",
              "mean        4.220241\n",
              "std         1.482204\n",
              "min         0.000000\n",
              "25%         3.200000\n",
              "50%         4.055000\n",
              "75%         5.020000\n",
              "max        12.050000\n",
              "Name: Next ERA, dtype: float64"
            ]
          },
          "metadata": {},
          "execution_count": 57
        }
      ]
    },
    {
      "cell_type": "code",
      "source": [
        "def player_history(df):\n",
        "    df = df.sort_values(\"Season\")\n",
        "    df[\"player_season\"] = range(0, df.shape[0])\n",
        "    df[\"ERA_corr\"] = list(df[[\"player_season\", \"ERA\"]].expanding().corr().loc[(slice(None), \"player_season\"), \"ERA\"])\n",
        "    df[\"ERA_corr\"].fillna(1, inplace=True)\n",
        "\n",
        "    df[\"ERA_diff\"] = df[\"ERA\"] / df[\"ERA\"].shift(1)\n",
        "    df[\"ERA_diff\"].fillna(1, inplace=True)\n",
        "\n",
        "    df[\"ERA_diff\"][df[\"ERA_diff\"] == np.inf] = 1\n",
        "\n",
        "    return df\n",
        "\n",
        "pitching = pitching.groupby(\"IDfg\", group_keys=False).apply(player_history)"
      ],
      "metadata": {
        "id": "dZfmeIh-GDsM"
      },
      "execution_count": 58,
      "outputs": []
    },
    {
      "cell_type": "code",
      "source": [
        "def group_averages(df):\n",
        "    return df[\"ERA\"] / df[\"ERA\"].mean()"
      ],
      "metadata": {
        "id": "G5VAcFgNKEr-"
      },
      "execution_count": 59,
      "outputs": []
    },
    {
      "cell_type": "code",
      "source": [
        "pitching[\"ERA_season\"] = pitching.groupby(\"Season\", group_keys=False).apply(group_averages)"
      ],
      "metadata": {
        "id": "ZA4s2wkhKYbb"
      },
      "execution_count": 60,
      "outputs": []
    },
    {
      "cell_type": "code",
      "source": [
        "pd.Series(rr.coef_, index=predictors).sort_values()"
      ],
      "metadata": {
        "colab": {
          "base_uri": "https://localhost:8080/"
        },
        "id": "hqQdYekkLjVh",
        "outputId": "7d74bcef-5931-4e35-a5ed-22e92f51dc85"
      },
      "execution_count": 61,
      "outputs": [
        {
          "output_type": "execute_result",
          "data": {
            "text/plain": [
              "SO              -2.005315\n",
              "K/BB+           -1.203712\n",
              "GB/FB           -1.138838\n",
              "MD              -0.873784\n",
              "K%              -0.845535\n",
              "FIP             -0.677771\n",
              "TBF             -0.669805\n",
              "ShO             -0.499469\n",
              "Swing%          -0.491821\n",
              "RAR             -0.486378\n",
              "FB%             -0.428718\n",
              "LA              -0.358893\n",
              "FIP-            -0.351444\n",
              "LOB%+           -0.343239\n",
              "Swing% (sc)     -0.316759\n",
              "IFH%            -0.274808\n",
              "Swing% (pi)     -0.272971\n",
              "Clutch          -0.222823\n",
              "Contact% (sc)   -0.195671\n",
              "Pace (pi)       -0.195084\n",
              "Pace            -0.195084\n",
              "Cent%+          -0.173269\n",
              "Contact% (pi)   -0.125053\n",
              "Strikes         -0.113895\n",
              "TTO%            -0.111175\n",
              "Cent%           -0.042488\n",
              "IP              -0.017091\n",
              "GB              -0.012761\n",
              "WAR              0.067443\n",
              "WP               0.257841\n",
              "Contact%         0.263484\n",
              "EV               0.309776\n",
              "FB               0.397547\n",
              "BS               0.409212\n",
              "Med%+            0.411019\n",
              "Hard%            0.472075\n",
              "LOB-Wins         0.503800\n",
              "CG               0.701654\n",
              "ER               0.716380\n",
              "IFFB             0.760437\n",
              "Z-Swing% (pi)    0.818687\n",
              "FB%+             0.864724\n",
              "R                0.942871\n",
              "Z-Contact%       0.990511\n",
              "LOB%             1.015049\n",
              "dtype: float64"
            ]
          },
          "metadata": {},
          "execution_count": 61
        }
      ]
    },
    {
      "cell_type": "code",
      "source": [
        "diff = predictions[\"actual\"] - predictions[\"prediction\"]\n",
        "merged = predictions.merge(pitching, left_index=True, right_index=True)\n",
        "merged[\"diff\"] = (predictions[\"actual\"] - predictions[\"prediction\"]).abs()\n",
        "merged[[\"IDfg\", \"Season\", \"Name\", \"ERA\", \"Next ERA\", \"diff\"]].sort_values([\"diff\"])"
      ],
      "metadata": {
        "colab": {
          "base_uri": "https://localhost:8080/",
          "height": 424
        },
        "id": "AUbPXiFrMEd5",
        "outputId": "485109ce-4429-4e19-8a03-9bbe020c6f51"
      },
      "execution_count": 62,
      "outputs": [
        {
          "output_type": "execute_result",
          "data": {
            "text/plain": [
              "       IDfg  Season              Name       ERA  Next ERA      diff\n",
              "111    8700    2022  Justin Verlander  0.145833      3.60  0.000451\n",
              "3148  19618    2022      Jordan Hicks  0.403333      3.93  0.002210\n",
              "3326  10123    2022       Kyle Gibson  0.420833      4.60  0.003527\n",
              "221   15451    2020       Mike Mayers  0.175000      3.84  0.005526\n",
              "1327  21290    2021   Lucas Gilbreath  0.281667      4.19  0.007113\n",
              "...     ...     ...               ...       ...       ...       ...\n",
              "4181  27505    2021     Kohei Arihara  0.553333      9.45  4.464756\n",
              "2869  13345    2022        Luis Cessa  0.380833      9.00  4.493255\n",
              "3041  16943    2021      Sean Newcomb  0.394167      8.78  4.608283\n",
              "2077  19911    2022       Jose Suarez  0.330000      9.62  5.388852\n",
              "3993  17186    2022    Dinelson Lamet  0.510000     11.57  7.520177\n",
              "\n",
              "[1014 rows x 6 columns]"
            ],
            "text/html": [
              "\n",
              "\n",
              "  <div id=\"df-bc89cd2b-f273-4ba8-967a-59e3722d4201\">\n",
              "    <div class=\"colab-df-container\">\n",
              "      <div>\n",
              "<style scoped>\n",
              "    .dataframe tbody tr th:only-of-type {\n",
              "        vertical-align: middle;\n",
              "    }\n",
              "\n",
              "    .dataframe tbody tr th {\n",
              "        vertical-align: top;\n",
              "    }\n",
              "\n",
              "    .dataframe thead th {\n",
              "        text-align: right;\n",
              "    }\n",
              "</style>\n",
              "<table border=\"1\" class=\"dataframe\">\n",
              "  <thead>\n",
              "    <tr style=\"text-align: right;\">\n",
              "      <th></th>\n",
              "      <th>IDfg</th>\n",
              "      <th>Season</th>\n",
              "      <th>Name</th>\n",
              "      <th>ERA</th>\n",
              "      <th>Next ERA</th>\n",
              "      <th>diff</th>\n",
              "    </tr>\n",
              "  </thead>\n",
              "  <tbody>\n",
              "    <tr>\n",
              "      <th>111</th>\n",
              "      <td>8700</td>\n",
              "      <td>2022</td>\n",
              "      <td>Justin Verlander</td>\n",
              "      <td>0.145833</td>\n",
              "      <td>3.60</td>\n",
              "      <td>0.000451</td>\n",
              "    </tr>\n",
              "    <tr>\n",
              "      <th>3148</th>\n",
              "      <td>19618</td>\n",
              "      <td>2022</td>\n",
              "      <td>Jordan Hicks</td>\n",
              "      <td>0.403333</td>\n",
              "      <td>3.93</td>\n",
              "      <td>0.002210</td>\n",
              "    </tr>\n",
              "    <tr>\n",
              "      <th>3326</th>\n",
              "      <td>10123</td>\n",
              "      <td>2022</td>\n",
              "      <td>Kyle Gibson</td>\n",
              "      <td>0.420833</td>\n",
              "      <td>4.60</td>\n",
              "      <td>0.003527</td>\n",
              "    </tr>\n",
              "    <tr>\n",
              "      <th>221</th>\n",
              "      <td>15451</td>\n",
              "      <td>2020</td>\n",
              "      <td>Mike Mayers</td>\n",
              "      <td>0.175000</td>\n",
              "      <td>3.84</td>\n",
              "      <td>0.005526</td>\n",
              "    </tr>\n",
              "    <tr>\n",
              "      <th>1327</th>\n",
              "      <td>21290</td>\n",
              "      <td>2021</td>\n",
              "      <td>Lucas Gilbreath</td>\n",
              "      <td>0.281667</td>\n",
              "      <td>4.19</td>\n",
              "      <td>0.007113</td>\n",
              "    </tr>\n",
              "    <tr>\n",
              "      <th>...</th>\n",
              "      <td>...</td>\n",
              "      <td>...</td>\n",
              "      <td>...</td>\n",
              "      <td>...</td>\n",
              "      <td>...</td>\n",
              "      <td>...</td>\n",
              "    </tr>\n",
              "    <tr>\n",
              "      <th>4181</th>\n",
              "      <td>27505</td>\n",
              "      <td>2021</td>\n",
              "      <td>Kohei Arihara</td>\n",
              "      <td>0.553333</td>\n",
              "      <td>9.45</td>\n",
              "      <td>4.464756</td>\n",
              "    </tr>\n",
              "    <tr>\n",
              "      <th>2869</th>\n",
              "      <td>13345</td>\n",
              "      <td>2022</td>\n",
              "      <td>Luis Cessa</td>\n",
              "      <td>0.380833</td>\n",
              "      <td>9.00</td>\n",
              "      <td>4.493255</td>\n",
              "    </tr>\n",
              "    <tr>\n",
              "      <th>3041</th>\n",
              "      <td>16943</td>\n",
              "      <td>2021</td>\n",
              "      <td>Sean Newcomb</td>\n",
              "      <td>0.394167</td>\n",
              "      <td>8.78</td>\n",
              "      <td>4.608283</td>\n",
              "    </tr>\n",
              "    <tr>\n",
              "      <th>2077</th>\n",
              "      <td>19911</td>\n",
              "      <td>2022</td>\n",
              "      <td>Jose Suarez</td>\n",
              "      <td>0.330000</td>\n",
              "      <td>9.62</td>\n",
              "      <td>5.388852</td>\n",
              "    </tr>\n",
              "    <tr>\n",
              "      <th>3993</th>\n",
              "      <td>17186</td>\n",
              "      <td>2022</td>\n",
              "      <td>Dinelson Lamet</td>\n",
              "      <td>0.510000</td>\n",
              "      <td>11.57</td>\n",
              "      <td>7.520177</td>\n",
              "    </tr>\n",
              "  </tbody>\n",
              "</table>\n",
              "<p>1014 rows × 6 columns</p>\n",
              "</div>\n",
              "      <button class=\"colab-df-convert\" onclick=\"convertToInteractive('df-bc89cd2b-f273-4ba8-967a-59e3722d4201')\"\n",
              "              title=\"Convert this dataframe to an interactive table.\"\n",
              "              style=\"display:none;\">\n",
              "\n",
              "  <svg xmlns=\"http://www.w3.org/2000/svg\" height=\"24px\"viewBox=\"0 0 24 24\"\n",
              "       width=\"24px\">\n",
              "    <path d=\"M0 0h24v24H0V0z\" fill=\"none\"/>\n",
              "    <path d=\"M18.56 5.44l.94 2.06.94-2.06 2.06-.94-2.06-.94-.94-2.06-.94 2.06-2.06.94zm-11 1L8.5 8.5l.94-2.06 2.06-.94-2.06-.94L8.5 2.5l-.94 2.06-2.06.94zm10 10l.94 2.06.94-2.06 2.06-.94-2.06-.94-.94-2.06-.94 2.06-2.06.94z\"/><path d=\"M17.41 7.96l-1.37-1.37c-.4-.4-.92-.59-1.43-.59-.52 0-1.04.2-1.43.59L10.3 9.45l-7.72 7.72c-.78.78-.78 2.05 0 2.83L4 21.41c.39.39.9.59 1.41.59.51 0 1.02-.2 1.41-.59l7.78-7.78 2.81-2.81c.8-.78.8-2.07 0-2.86zM5.41 20L4 18.59l7.72-7.72 1.47 1.35L5.41 20z\"/>\n",
              "  </svg>\n",
              "      </button>\n",
              "\n",
              "\n",
              "\n",
              "    <div id=\"df-c0550cd2-a4c1-4629-8bae-09299682a084\">\n",
              "      <button class=\"colab-df-quickchart\" onclick=\"quickchart('df-c0550cd2-a4c1-4629-8bae-09299682a084')\"\n",
              "              title=\"Suggest charts.\"\n",
              "              style=\"display:none;\">\n",
              "\n",
              "<svg xmlns=\"http://www.w3.org/2000/svg\" height=\"24px\"viewBox=\"0 0 24 24\"\n",
              "     width=\"24px\">\n",
              "    <g>\n",
              "        <path d=\"M19 3H5c-1.1 0-2 .9-2 2v14c0 1.1.9 2 2 2h14c1.1 0 2-.9 2-2V5c0-1.1-.9-2-2-2zM9 17H7v-7h2v7zm4 0h-2V7h2v10zm4 0h-2v-4h2v4z\"/>\n",
              "    </g>\n",
              "</svg>\n",
              "      </button>\n",
              "    </div>\n",
              "\n",
              "<style>\n",
              "  .colab-df-quickchart {\n",
              "    background-color: #E8F0FE;\n",
              "    border: none;\n",
              "    border-radius: 50%;\n",
              "    cursor: pointer;\n",
              "    display: none;\n",
              "    fill: #1967D2;\n",
              "    height: 32px;\n",
              "    padding: 0 0 0 0;\n",
              "    width: 32px;\n",
              "  }\n",
              "\n",
              "  .colab-df-quickchart:hover {\n",
              "    background-color: #E2EBFA;\n",
              "    box-shadow: 0px 1px 2px rgba(60, 64, 67, 0.3), 0px 1px 3px 1px rgba(60, 64, 67, 0.15);\n",
              "    fill: #174EA6;\n",
              "  }\n",
              "\n",
              "  [theme=dark] .colab-df-quickchart {\n",
              "    background-color: #3B4455;\n",
              "    fill: #D2E3FC;\n",
              "  }\n",
              "\n",
              "  [theme=dark] .colab-df-quickchart:hover {\n",
              "    background-color: #434B5C;\n",
              "    box-shadow: 0px 1px 3px 1px rgba(0, 0, 0, 0.15);\n",
              "    filter: drop-shadow(0px 1px 2px rgba(0, 0, 0, 0.3));\n",
              "    fill: #FFFFFF;\n",
              "  }\n",
              "</style>\n",
              "\n",
              "    <script>\n",
              "      async function quickchart(key) {\n",
              "        const containerElement = document.querySelector('#' + key);\n",
              "        const charts = await google.colab.kernel.invokeFunction(\n",
              "            'suggestCharts', [key], {});\n",
              "      }\n",
              "    </script>\n",
              "\n",
              "      <script>\n",
              "\n",
              "function displayQuickchartButton(domScope) {\n",
              "  let quickchartButtonEl =\n",
              "    domScope.querySelector('#df-c0550cd2-a4c1-4629-8bae-09299682a084 button.colab-df-quickchart');\n",
              "  quickchartButtonEl.style.display =\n",
              "    google.colab.kernel.accessAllowed ? 'block' : 'none';\n",
              "}\n",
              "\n",
              "        displayQuickchartButton(document);\n",
              "      </script>\n",
              "      <style>\n",
              "    .colab-df-container {\n",
              "      display:flex;\n",
              "      flex-wrap:wrap;\n",
              "      gap: 12px;\n",
              "    }\n",
              "\n",
              "    .colab-df-convert {\n",
              "      background-color: #E8F0FE;\n",
              "      border: none;\n",
              "      border-radius: 50%;\n",
              "      cursor: pointer;\n",
              "      display: none;\n",
              "      fill: #1967D2;\n",
              "      height: 32px;\n",
              "      padding: 0 0 0 0;\n",
              "      width: 32px;\n",
              "    }\n",
              "\n",
              "    .colab-df-convert:hover {\n",
              "      background-color: #E2EBFA;\n",
              "      box-shadow: 0px 1px 2px rgba(60, 64, 67, 0.3), 0px 1px 3px 1px rgba(60, 64, 67, 0.15);\n",
              "      fill: #174EA6;\n",
              "    }\n",
              "\n",
              "    [theme=dark] .colab-df-convert {\n",
              "      background-color: #3B4455;\n",
              "      fill: #D2E3FC;\n",
              "    }\n",
              "\n",
              "    [theme=dark] .colab-df-convert:hover {\n",
              "      background-color: #434B5C;\n",
              "      box-shadow: 0px 1px 3px 1px rgba(0, 0, 0, 0.15);\n",
              "      filter: drop-shadow(0px 1px 2px rgba(0, 0, 0, 0.3));\n",
              "      fill: #FFFFFF;\n",
              "    }\n",
              "  </style>\n",
              "\n",
              "      <script>\n",
              "        const buttonEl =\n",
              "          document.querySelector('#df-bc89cd2b-f273-4ba8-967a-59e3722d4201 button.colab-df-convert');\n",
              "        buttonEl.style.display =\n",
              "          google.colab.kernel.accessAllowed ? 'block' : 'none';\n",
              "\n",
              "        async function convertToInteractive(key) {\n",
              "          const element = document.querySelector('#df-bc89cd2b-f273-4ba8-967a-59e3722d4201');\n",
              "          const dataTable =\n",
              "            await google.colab.kernel.invokeFunction('convertToInteractive',\n",
              "                                                     [key], {});\n",
              "          if (!dataTable) return;\n",
              "\n",
              "          const docLinkHtml = 'Like what you see? Visit the ' +\n",
              "            '<a target=\"_blank\" href=https://colab.research.google.com/notebooks/data_table.ipynb>data table notebook</a>'\n",
              "            + ' to learn more about interactive tables.';\n",
              "          element.innerHTML = '';\n",
              "          dataTable['output_type'] = 'display_data';\n",
              "          await google.colab.output.renderOutput(dataTable, element);\n",
              "          const docLink = document.createElement('div');\n",
              "          docLink.innerHTML = docLinkHtml;\n",
              "          element.appendChild(docLink);\n",
              "        }\n",
              "      </script>\n",
              "    </div>\n",
              "  </div>\n"
            ]
          },
          "metadata": {},
          "execution_count": 62
        }
      ]
    },
    {
      "cell_type": "markdown",
      "source": [
        "# Linear Regression of most prevelant features in model"
      ],
      "metadata": {
        "id": "iOTTPGsBoHOY"
      }
    },
    {
      "cell_type": "code",
      "source": [
        "x = pitching['SO']\n",
        "y = pitching['ERA']\n",
        "mean_x = np.mean(x)\n",
        "x_deviations = x - mean_x\n",
        "\n",
        "mean_y = np.mean(y)\n",
        "y_deviations = y - mean_y\n",
        "\n",
        "covariance = np.mean(x_deviations * y_deviations)\n",
        "covariance\n",
        "\n",
        "sqr_x_dev = np.square(x_deviations)\n",
        "sqr_y_dev = np.square(y_deviations)\n",
        "\n",
        "x_var = np.mean(sqr_x_dev)\n",
        "y_var = np.mean(sqr_y_dev)\n",
        "\n",
        "x_sd = np.sqrt(x_var)\n",
        "y_sd = np.sqrt(y_var)\n",
        "\n",
        "cc = covariance / (x_sd * y_sd)\n",
        "cc"
      ],
      "metadata": {
        "colab": {
          "base_uri": "https://localhost:8080/"
        },
        "id": "NEhYSWDHiBml",
        "outputId": "92e26f99-7d8b-4ed6-8f55-b52879b1e572"
      },
      "execution_count": 63,
      "outputs": [
        {
          "output_type": "execute_result",
          "data": {
            "text/plain": [
              "-0.19553625689325646"
            ]
          },
          "metadata": {},
          "execution_count": 63
        }
      ]
    },
    {
      "cell_type": "code",
      "source": [
        "slope = cc * (y_sd/x_sd)\n",
        "intercept = mean_y - (cc * (y_sd/x_sd) * mean_x)\n",
        "print(slope, intercept)\n",
        "\n",
        "def lin_reg(slope, intercept):\n",
        "    lin_reg = pitching\n",
        "    x = lin_reg['SO']\n",
        "    y = lin_reg['ERA']\n",
        "    predictions = Table().with_columns('Y Prediction', make_array())\n",
        "    for i in x:\n",
        "        prediction = (slope * i) + intercept\n",
        "        predictions.append((prediction,))\n",
        "        y_prediction = predictions.column('Y Prediction')\n",
        "    error = y - y_prediction\n",
        "    rsme = np.sqrt(np.mean(error**2))\n",
        "    return rsme\n",
        "parameters = minimize(lin_reg)\n",
        "print(parameters)"
      ],
      "metadata": {
        "colab": {
          "base_uri": "https://localhost:8080/"
        },
        "id": "Lyg-rG7aiJFg",
        "outputId": "13a525ef-cfd9-48a1-8883-ae13951ebad2"
      },
      "execution_count": 64,
      "outputs": [
        {
          "output_type": "stream",
          "name": "stdout",
          "text": [
            "-0.137937149029 0.368289550512\n",
            "[-0.13793714  0.36828886]\n"
          ]
        }
      ]
    },
    {
      "cell_type": "code",
      "source": [
        "lin_reg_plot = pitching.plot.scatter('SO', 'ERA')\n",
        "regline_x_values = np.arange(min(x)-0, max(x)+1)\n",
        "regline_y_values = regline_x_values * slope + intercept\n",
        "plots.plot(regline_x_values, regline_y_values, 'b')\n",
        "lin_reg_plot"
      ],
      "metadata": {
        "colab": {
          "base_uri": "https://localhost:8080/",
          "height": 495
        },
        "id": "CdD84j21iPRh",
        "outputId": "947c88cb-b647-424c-e869-6f0ead5ff278"
      },
      "execution_count": 65,
      "outputs": [
        {
          "output_type": "execute_result",
          "data": {
            "text/plain": [
              "<Axes: xlabel='SO', ylabel='ERA'>"
            ]
          },
          "metadata": {},
          "execution_count": 65
        },
        {
          "output_type": "display_data",
          "data": {
            "text/plain": [
              "<Figure size 640x480 with 1 Axes>"
            ],
            "image/png": "[encoded data removed]"
          },
          "metadata": {}
        }
      ]
    },
    {
      "cell_type": "code",
      "source": [
        "x = pitching['K/BB+']\n",
        "y = pitching['ERA']\n",
        "mean_x = np.mean(x)\n",
        "x_deviations = x - mean_x\n",
        "\n",
        "mean_y = np.mean(y)\n",
        "y_deviations = y - mean_y\n",
        "\n",
        "covariance = np.mean(x_deviations * y_deviations)\n",
        "covariance\n",
        "\n",
        "sqr_x_dev = np.square(x_deviations)\n",
        "sqr_y_dev = np.square(y_deviations)\n",
        "\n",
        "x_var = np.mean(sqr_x_dev)\n",
        "y_var = np.mean(sqr_y_dev)\n",
        "\n",
        "x_sd = np.sqrt(x_var)\n",
        "y_sd = np.sqrt(y_var)\n",
        "\n",
        "cc = covariance / (x_sd * y_sd)\n",
        "cc"
      ],
      "metadata": {
        "colab": {
          "base_uri": "https://localhost:8080/"
        },
        "id": "7h2tsZmAig5C",
        "outputId": "a30bdf34-01ca-437a-bc56-c06a5d0fbfde"
      },
      "execution_count": 66,
      "outputs": [
        {
          "output_type": "execute_result",
          "data": {
            "text/plain": [
              "-0.35812729382967884"
            ]
          },
          "metadata": {},
          "execution_count": 66
        }
      ]
    },
    {
      "cell_type": "code",
      "source": [
        "slope = cc * (y_sd/x_sd)\n",
        "intercept = mean_y - (cc * (y_sd/x_sd) * mean_x)\n",
        "print(slope, intercept)\n",
        "\n",
        "def lin_reg(slope, intercept):\n",
        "    lin_reg = pitching\n",
        "    x = lin_reg['K/BB+']\n",
        "    y = lin_reg['ERA']\n",
        "    predictions = Table().with_columns('Y Prediction', make_array())\n",
        "    for i in x:\n",
        "        prediction = (slope * i) + intercept\n",
        "        predictions.append((prediction,))\n",
        "        y_prediction = predictions.column('Y Prediction')\n",
        "    error = y - y_prediction\n",
        "    rsme = np.sqrt(np.mean(error**2))\n",
        "    return rsme\n",
        "parameters = minimize(lin_reg)\n",
        "print(parameters)"
      ],
      "metadata": {
        "colab": {
          "base_uri": "https://localhost:8080/"
        },
        "id": "wGNC0mZAiknB",
        "outputId": "61e62850-a0af-4584-f266-fb0d27031462"
      },
      "execution_count": 67,
      "outputs": [
        {
          "output_type": "stream",
          "name": "stdout",
          "text": [
            "-0.540807660743 0.405395970683\n",
            "[-0.54080763  0.40539602]\n"
          ]
        }
      ]
    },
    {
      "cell_type": "code",
      "source": [
        "lin_reg_plot = pitching.plot.scatter('K/BB+', 'ERA')\n",
        "regline_x_values = np.arange(min(x)-0, max(x)+1)\n",
        "regline_y_values = regline_x_values * slope + intercept\n",
        "plots.plot(regline_x_values, regline_y_values, 'b')\n",
        "lin_reg_plot"
      ],
      "metadata": {
        "colab": {
          "base_uri": "https://localhost:8080/",
          "height": 495
        },
        "id": "OLjVsWSLipTk",
        "outputId": "83864ab5-c5ed-4303-9ca9-21c52cb9fd5a"
      },
      "execution_count": 68,
      "outputs": [
        {
          "output_type": "execute_result",
          "data": {
            "text/plain": [
              "<Axes: xlabel='K/BB+', ylabel='ERA'>"
            ]
          },
          "metadata": {},
          "execution_count": 68
        },
        {
          "output_type": "display_data",
          "data": {
            "text/plain": [
              "<Figure size 640x480 with 1 Axes>"
            ],
            "image/png": "[encoded data removed]"
          },
          "metadata": {}
        }
      ]
    },
    {
      "cell_type": "code",
      "source": [
        "x = pitching['LOB%']\n",
        "y = pitching['ERA']\n",
        "mean_x = np.mean(x)\n",
        "x_deviations = x - mean_x\n",
        "\n",
        "mean_y = np.mean(y)\n",
        "y_deviations = y - mean_y\n",
        "\n",
        "covariance = np.mean(x_deviations * y_deviations)\n",
        "covariance\n",
        "\n",
        "sqr_x_dev = np.square(x_deviations)\n",
        "sqr_y_dev = np.square(y_deviations)\n",
        "\n",
        "x_var = np.mean(sqr_x_dev)\n",
        "y_var = np.mean(sqr_y_dev)\n",
        "\n",
        "x_sd = np.sqrt(x_var)\n",
        "y_sd = np.sqrt(y_var)\n",
        "\n",
        "cc = covariance / (x_sd * y_sd)\n",
        "cc"
      ],
      "metadata": {
        "colab": {
          "base_uri": "https://localhost:8080/"
        },
        "id": "PWkbCiyudza1",
        "outputId": "82110bd2-8be0-4e09-fda3-49f41d1e5eef"
      },
      "execution_count": 69,
      "outputs": [
        {
          "output_type": "execute_result",
          "data": {
            "text/plain": [
              "-0.71377377584018387"
            ]
          },
          "metadata": {},
          "execution_count": 69
        }
      ]
    },
    {
      "cell_type": "code",
      "source": [
        "slope = cc * (y_sd/x_sd)\n",
        "intercept = mean_y - (cc * (y_sd/x_sd) * mean_x)\n",
        "print(slope, intercept)\n",
        "\n",
        "def lin_reg(slope, intercept):\n",
        "    lin_reg = pitching\n",
        "    x = lin_reg['LOB%']\n",
        "    y = lin_reg['ERA']\n",
        "    predictions = Table().with_columns('Y Prediction', make_array())\n",
        "    for i in x:\n",
        "        prediction = (slope * i) + intercept\n",
        "        predictions.append((prediction,))\n",
        "        y_prediction = predictions.column('Y Prediction')\n",
        "    error = y - y_prediction\n",
        "    rsme = np.sqrt(np.mean(error**2))\n",
        "    return rsme\n",
        "parameters = minimize(lin_reg)\n",
        "print(parameters)"
      ],
      "metadata": {
        "colab": {
          "base_uri": "https://localhost:8080/"
        },
        "id": "ClWfFyX5eg9d",
        "outputId": "5ae7af45-1d0e-4c9c-e3d5-8ab2d89ddf26"
      },
      "execution_count": 70,
      "outputs": [
        {
          "output_type": "stream",
          "name": "stdout",
          "text": [
            "-0.656204165448 0.707615432725\n",
            "[-0.65620416  0.70761545]\n"
          ]
        }
      ]
    },
    {
      "cell_type": "code",
      "source": [
        "lin_reg_plot = pitching.plot.scatter('LOB%', 'ERA')\n",
        "regline_x_values = np.arange(min(x)-0, max(x)+1)\n",
        "regline_y_values = regline_x_values * slope + intercept\n",
        "plots.plot(regline_x_values, regline_y_values, 'b')\n",
        "lin_reg_plot"
      ],
      "metadata": {
        "colab": {
          "base_uri": "https://localhost:8080/",
          "height": 495
        },
        "id": "SpE-N8BMfKF_",
        "outputId": "323cd575-8f72-44cb-8090-3eadf010bea8"
      },
      "execution_count": 71,
      "outputs": [
        {
          "output_type": "execute_result",
          "data": {
            "text/plain": [
              "<Axes: xlabel='LOB%', ylabel='ERA'>"
            ]
          },
          "metadata": {},
          "execution_count": 71
        },
        {
          "output_type": "display_data",
          "data": {
            "text/plain": [
              "<Figure size 640x480 with 1 Axes>"
            ],
            "image/png": "[encoded data removed]"
          },
          "metadata": {}
        }
      ]
    },
    {
      "cell_type": "markdown",
      "source": [
        "# Least Prevelant Feature (Ground Balls)\n",
        "\n"
      ],
      "metadata": {
        "id": "ZmdLzk6VovkZ"
      }
    },
    {
      "cell_type": "code",
      "source": [
        "x = pitching['GB']\n",
        "y = pitching['ERA']\n",
        "mean_x = np.mean(x)\n",
        "x_deviations = x - mean_x\n",
        "\n",
        "mean_y = np.mean(y)\n",
        "y_deviations = y - mean_y\n",
        "\n",
        "covariance = np.mean(x_deviations * y_deviations)\n",
        "covariance\n",
        "\n",
        "sqr_x_dev = np.square(x_deviations)\n",
        "sqr_y_dev = np.square(y_deviations)\n",
        "\n",
        "x_var = np.mean(sqr_x_dev)\n",
        "y_var = np.mean(sqr_y_dev)\n",
        "\n",
        "x_sd = np.sqrt(x_var)\n",
        "y_sd = np.sqrt(y_var)\n",
        "\n",
        "cc = covariance / (x_sd * y_sd)\n",
        "cc"
      ],
      "metadata": {
        "colab": {
          "base_uri": "https://localhost:8080/"
        },
        "id": "ZIfgBXBzi2tE",
        "outputId": "5931ed5c-ec5a-45d8-a5be-7f303a55c828"
      },
      "execution_count": 72,
      "outputs": [
        {
          "output_type": "execute_result",
          "data": {
            "text/plain": [
              "-0.050355191850652813"
            ]
          },
          "metadata": {},
          "execution_count": 72
        }
      ]
    },
    {
      "cell_type": "code",
      "source": [
        "slope = cc * (y_sd/x_sd)\n",
        "intercept = mean_y - (cc * (y_sd/x_sd) * mean_x)\n",
        "print(slope, intercept)\n",
        "\n",
        "def lin_reg(slope, intercept):\n",
        "    lin_reg = pitching\n",
        "    x = lin_reg['GB']\n",
        "    y = lin_reg['ERA']\n",
        "    predictions = Table().with_columns('Y Prediction', make_array())\n",
        "    for i in x:\n",
        "        prediction = (slope * i) + intercept\n",
        "        predictions.append((prediction,))\n",
        "        y_prediction = predictions.column('Y Prediction')\n",
        "    error = y - y_prediction\n",
        "    rsme = np.sqrt(np.mean(error**2))\n",
        "    return rsme\n",
        "parameters = minimize(lin_reg)\n",
        "print(parameters)"
      ],
      "metadata": {
        "colab": {
          "base_uri": "https://localhost:8080/"
        },
        "id": "nHz_oxZ5i5yN",
        "outputId": "3b3ceac4-93ac-4c45-c70f-02adeb5409c9"
      },
      "execution_count": 73,
      "outputs": [
        {
          "output_type": "stream",
          "name": "stdout",
          "text": [
            "-0.0315140114795 0.345336031442\n",
            "[-0.03151399  0.34533416]\n"
          ]
        }
      ]
    },
    {
      "cell_type": "code",
      "source": [
        "lin_reg_plot = pitching.plot.scatter('GB', 'ERA')\n",
        "regline_x_values = np.arange(min(x)-0, max(x)+1)\n",
        "regline_y_values = regline_x_values * slope + intercept\n",
        "plots.plot(regline_x_values, regline_y_values, 'b')\n",
        "lin_reg_plot"
      ],
      "metadata": {
        "colab": {
          "base_uri": "https://localhost:8080/",
          "height": 495
        },
        "id": "IpKcM2TqjBuJ",
        "outputId": "6c82f561-9b2c-4a21-d58a-d121d1dcafcc"
      },
      "execution_count": 74,
      "outputs": [
        {
          "output_type": "execute_result",
          "data": {
            "text/plain": [
              "<Axes: xlabel='GB', ylabel='ERA'>"
            ]
          },
          "metadata": {},
          "execution_count": 74
        },
        {
          "output_type": "display_data",
          "data": {
            "text/plain": [
              "<Figure size 640x480 with 1 Axes>"
            ],
            "image/png": "[encoded data removed]"
          },
          "metadata": {}
        }
      ]
    },
    {
      "cell_type": "markdown",
      "source": [
        "Every new model I made **SO** had the highest coefficient, but it seems as if it is not the best indicator of ERA. Some excluded stats like fielding independent pitching would be useful but were tied to close to actual ERA."
      ],
      "metadata": {
        "id": "4IGLY-B5pL9R"
      }
    }
  ]
}